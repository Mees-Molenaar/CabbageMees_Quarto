{
 "cells": [
  {
   "cell_type": "raw",
   "metadata": {
    "vscode": {
     "languageId": "raw"
    }
   },
   "source": [
    "---\n",
    "title: \"Rust Principles Bouwen van een HTTP Server - Deel 1 - Rust Omgeving Voorbereiden\"\n",
    "subtitle: \"Installeer Rust en configuur Neovim\"\n",
    "date: \"2025-03-11\"\n",
    "author: \"Mees Molenaar\"\n",
    "toc: true\n",
    "categories: [Rust, HTTP Server]\n",
    "page-layout: article\n",
    "image: images/wireframe.webp\n",
    "---"
   ]
  },
  {
   "attachments": {},
   "cell_type": "markdown",
   "metadata": {},
   "source": [
    "## Blog Series Doelen\n",
    "\n",
    "​Het doel van deze blog serie is om beter te worden in Rust. Rust is op dit moment een van mijn favoriete programmeertalen. Hoewel ik de meeste programma's wel zou kunnen schrijven in Rust, zijn er nog een aantal programmeerprincipes die ik niet goed genoeg ken. In deze serie neem ik je daarom mee op mijn weg om beter te worden in Rust. \n",
    "\n",
    "Daarnaast wil ik ook HTTP servers beter leren begrijpen. Ik wil HTTP servers beter leren begrijpen, omdat het iets is wat we dagelijks gebruiken. Neem bijvoorbeeld buienrader, wanneer je in de Netwerk tab van je [programming tools](https://developer.mozilla.org/en-US/docs/Learn_web_development/Howto/Tools_and_setup/What_are_browser_developer_tools) kijkt, zie je een request naar `forecast.buienradar.nl`, wat waarschijnlijk de HTTP server is die de weersvoorspelling terugstuurt naar de browser.\n",
    "\n",
    "Ik gebruik ze eigenlijk ook vaak wanneer ik een API maak (zoals [Fastapi](https://fastapi.tiangolo.com) in Python of [Axum](https://github.com/tokio-rs/axum) in Rust). Omdat ik HTTP servers zo vaak gebruik, wil ik nu weleens weten wat er eigenlijk achter de schermen gebeurt.\n",
    "\n",
    "Ik denk dat deze twee doelen goed samengaan, omdat je een HTTP server redelijk klein kan beginnen maar je die uit kan bouwen naar een geavanceerd project. Daardoor kan je veel Rust-principes uitproberen, en het is niet een project dat nooit in het echt gebruikt zal worden. Zoals ik eerder vertelde worden HTTP servers juist veel gebruikt.\n",
    "\n",
    "In deze eerste post van de serie houden we het makkelijk. We gaan namelijk Rust installeren, onze code editor instellen en als laatste het project aanmaken.\n",
    "\n",
    "> Ik gebruik een Mac, als je een ander OS gebruikt kunnen de stappen hieronder iets wijzigen"
   ]
  },
  {
   "attachments": {},
   "cell_type": "markdown",
   "metadata": {},
   "source": [
    "## Rust Installeren\n",
    "\n",
    "Rust installeren is een eitje, omdat Rust gemakkelijke developer tools heeft gemaakt. Een van deze tools is `rustup`, en die tool wordt gebruikt om Rust te installeren en te updaten.\n",
    "\n",
    "Omdat het installatieproces van `rustup` mogelijk kan wijzigen, refereer ik daarvoor naar [de officiele Rust website](https://www.rust-lang.org/tools/install). \n",
    "\n",
    "Na het installeren van `rustup` kunnen we door naar de volgende stap: de editor.\n",
    "\n",
    "> Mocht je meer informatie over `rustup` willen, dan verwijs ik je naar dit boek: https://rust-lang.github.io/rustup/"
   ]
  },
  {
   "attachments": {},
   "cell_type": "markdown",
   "metadata": {},
   "source": [
    "## De Code Editor Gereed Maken\n",
    "\n",
    "> Sinds een aantal maanden gebruik ik [Neovim](https://neovim.io) als code editor. Dus de volgende stappen zijn specifiek voor Neovim. Wanneer je een andere editor gebruikt, ga dan opzoek naar hoe je die kunt instellen. Ik kan me niet voorstellen dat daar geen andere blogs / manuals voor zijn.\n",
    "\n",
    "Toen ik Neovim heb opgezet, heb ik [kickstart.nvim](https://github.com/nvim-lua/kickstart.nvim) gebruikt. Tot dusver ben ik zeer positief over deze configuratie. Neovim gebruikt LSP's (Language Server Protocol's) om zaken zoals Auto Completion te regelen. En kickstart.nvim gebruikt de [mason.nvim](https://github.com/williamboman/mason.nvim) plugin om LSP's te beheren. Kickstart.nvim heeft het toevoegen van de Rust LSP ([rust_analyzer](https://github.com/rust-lang/rust-analyzer)) gemakkelijk gemaakt door die met comments toe te voegen. Dus om de LSP toe te voegen, hoef je alleen de comments (de twee streeps `--`) weg te halen op deze regel:\n",
    "\n",
    "`-- rust_analyzer = {},` \n",
    "\n",
    "wordt \n",
    "\n",
    "`rust_analyzer = {},`\n",
    "\n",
    "Wanneer je dat hebt gedaan hoef je alleen Neovim te herstarten. Wanneer je vanaf nu een Rust-bestand opent, wordt de LSP aan het bestand gekoppeld. Zo heb je direct alle voordelen van de rust_analyzer LSP."
   ]
  },
  {
   "cell_type": "markdown",
   "metadata": {},
   "source": [
    "## Het Project Maken\n",
    "\n",
    "Als laatste gaan we het project opzetten. Met het installeren van `rustup` is ook `cargo` geïnstalleerd. [Cargo](https://doc.rust-lang.org/cargo/index.html) is Rust's build tool en package manager. Een van de features van `cargo` is het maken van een nieuw project. Het maken van een nieuw project doe je met `cargo new`:\n",
    "\n",
    "`cargo new rust_principles_http_server`\n",
    "\n",
    "Dit maakt een nieuwe map met de naam `rust_principles_http_server`. In deze map maakt `cargo` drie dingen aan:\n",
    "```\n",
    ".\n",
    "├── Cargo.toml\n",
    "└── src\n",
    "    └── main.rs\n",
    "```\n",
    "\n",
    "Ik wil nog niet te diep op de verschillende componenten ingaan (wie weet komt dat in een volgende blog post), maar in het kort:\n",
    "\n",
    "* `Cargo.toml` is een manifest dat alle metadata bevat die Cargo nodig heeft om het project te compileren.\n",
    "* In de `src` folder komt alle source code voor het project.\n",
    "* `main.rs` is het beginpunt van het project, dit is waar het uitvoeren van de code begint.\n",
    "\n",
    "Als laatste gaan we dit project uitvoeren om te controleren of alles tot dusver nog werkt. Navigeer naar het project in in dit voorbeeld, `rust_principles_http_server`. Om het project te compileren heb je dit `cargo commando`:\n",
    "`cargo build`\n",
    "\n",
    "Vervolgens kan je het project draaien door `cargo run` uit te voeren (dit compileert je code ook, dus je hoeft `cargo build` niet uit te voeren voor `cargo run`). Wanneer alles goed is gegaan, zie je de tekst `Hello, world!` verschijnen in je terminal.\n",
    "\n",
    "> Ook Cargo [heeft zijn eigen boek](https://doc.rust-lang.org/cargo/index.html). En in de toekomst zullen we meer van `cargo` gaan zien en hoe zich dat verhoudt tot de source code en `Cargo.toml`."
   ]
  },
  {
   "cell_type": "markdown",
   "metadata": {},
   "source": [
    "## Tot Slot\n",
    "\n",
    "Dit was het voor nu. In deze post hebben we Rust geïnstalleerd, Neovim geconfigureerd en het Rust project gemaakt (hier is de [Github repository](https://github.com/Mees-Molenaar/rust_principles_http_server) met de code. \n",
    "\n",
    "Voor de volgende keer staan twee dingen op de planning:\n",
    "\n",
    "1. Ownership, Borrowing and Lifetimes. \n",
    "2. Begin van de HTTP server\n",
    "\n",
    "Tot de volgende!\n",
    "\n",
    "Mees"
   ]
  },
  {
   "cell_type": "markdown",
   "metadata": {},
   "source": [
    "[^1]: Een practice is een dagelijkse taak en de practices die nu in de app zitten komen uit het boek Choose Yourself! van James Altucher"
   ]
  }
 ],
 "metadata": {
  "kernelspec": {
   "display_name": "venv",
   "language": "python",
   "name": "python3"
  },
  "language_info": {
   "codemirror_mode": {
    "name": "ipython",
    "version": 3
   },
   "file_extension": ".py",
   "mimetype": "text/x-python",
   "name": "python",
   "nbconvert_exporter": "python",
   "pygments_lexer": "ipython3",
   "version": "3.11.6"
  },
  "orig_nbformat": 4,
  "vscode": {
   "interpreter": {
    "hash": "5e96dc7977b545816798acbcfbbe2179ff9b80a1df2045c19cf6193f5f40622f"
   }
  }
 },
 "nbformat": 4,
 "nbformat_minor": 2
}
