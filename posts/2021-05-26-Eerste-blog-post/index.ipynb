{
 "cells": [
  {
   "cell_type": "raw",
   "id": "53c10a12",
   "metadata": {},
   "source": [
    "---\n",
    "title: \"Welkom op CabbageMees!\"\n",
    "subtitle: \"Waarom begin ik met bloggen\"\n",
    "date: \"2021-05-26\"\n",
    "author: \"Mees Molenaar\"\n",
    "toc: true\n",
    "categories: [De reis, Introductie]\n",
    "page-layout: article\n",
    "---"
   ]
  },
  {
   "cell_type": "markdown",
   "id": "94f10a83-34ef-4c6e-ac27-fb2e1a3f192d",
   "metadata": {},
   "source": [
    "Hoi,\n",
    "\n",
    "Mijn naam is Mees en sommige zullen zeggen dat ik een rare vogel ben (een koolmees bijvoorbeeld). In 2020 heb ik mijn Life Science & Technology diploma van de Universiteit Leiden behaald. Nu wil ik deze kennis over de biologie verbinden met een andere passie van mij, namelijk programmeren en meer specifiek Artificiële Intelligentie (AI). Via deze blog wil ik jullie graag op de hoogte houden van mijn bezigheden."
   ]
  },
  {
   "cell_type": "markdown",
   "id": "ae464a16-a5d0-477c-a513-0f1a640f510d",
   "metadata": {},
   "source": [
    "Maar eerst nog even terug naar waar het allemaal begon. Toen ik nog jonger en kleiner was dan nu, was het mijn droom om een middel te vinden tegen kanker. Dat was voor mij de reden om, na de middelbare school, Life Science & Technology te gaan studeren. Tijdens de studie kwam ik tot de conclusie dat het laboratorium niks voor mij was en dat ik op deze manier nooit een medicijn zou uitvinden. Dit was een enorme teleurstelling, maar gelukkig kwam ik er snel achter dat je op veel meer manieren bij kan dragen aan het ontwikkelen van medicijnen. Zo ben ik in aanraking gekomen met AI."
   ]
  },
  {
   "cell_type": "markdown",
   "id": "8020a44c-c3f5-42ac-adb6-1d38500b179b",
   "metadata": {},
   "source": [
    "De eerste kennismaking was tijdens het vak computationele medicijn ontwikkeling (gegeven door prof. dr. ir. Fraaije). Tijdens deze colleges bespraken wij bijvoorbeeld Quantitative Structure-Activity Relationship ([QSAR](https://nl.wikipedia.org/wiki/Quantitative_structure-activity_relationship)), een machinaal leren (een vorm van AI) techniek om te voorspellen wat voor eigenschappen een molecuul heeft (zoals [elektronegativiteit](https://nl.wikipedia.org/wiki/Elektronegativiteit)). Dit sprak erg tot mijn verbeelding. En zo begon het fantaseren over een computer programma wat alles weet van het menselijk lichaam en van een potentieel medicijn waardoor het belangrijke eigenschappen van medicijnen kan voorspellen. Zoals of het medicijn werkzaam is, of er bijwerkingen zijn, in welk weefsel het medicijn zich het meeste bevind. JA, dacht ik. Dit is fantastisch! Ik wil zo snel mogelijk AI onder de knie krijgen!"
   ]
  },
  {
   "cell_type": "markdown",
   "id": "22e95b75-4d61-4b00-972e-db22dd0c5251",
   "metadata": {},
   "source": [
    "Nu, een aantal jaren verder, heb ik veel geleerd. Van programmeren in Python tot het maken van neurale netwerken (een vorm van AI) en ik ben daar nog steeds iedere dag met passie mee bezig. Ook maak ik eigen projecten, maar hoe de reis verder zal gaan is nog onzeker. Mede daarom wil ik jullie graag mee nemen op deze reis. Daarnaast is het uitleggen van de technieken en termen die je zelf geleerd hebt de ultieme manier om jezelf te toetsen en dus vergt het dat je het onderwerp tot in de puntjes begrijpt. Als laatste, en misschien ook het belangrijkste, hoop ik jullie lezers te helpen bij het begrijpen van de soms lastige concepten die bij AI horen."
   ]
  },
  {
   "cell_type": "markdown",
   "id": "68d59f6d-505f-4143-9ac4-1ed2dfb28d74",
   "metadata": {},
   "source": [
    "De droom om medicijnen te ontwikkelen met AI is er nog steeds, maar mijn eerste doel is een van de beste AI beoefenaars van Nederland te worden. Tot zo ver de eerste blog post en tot de volgende keer!\n",
    "\n",
    "Mees"
   ]
  }
 ],
 "metadata": {
  "kernelspec": {
   "display_name": "Python 3.9.9 64-bit",
   "language": "python",
   "name": "python3"
  },
  "language_info": {
   "codemirror_mode": {
    "name": "ipython",
    "version": 3
   },
   "file_extension": ".py",
   "mimetype": "text/x-python",
   "name": "python",
   "nbconvert_exporter": "python",
   "pygments_lexer": "ipython3",
   "version": "3.9.9"
  },
  "vscode": {
   "interpreter": {
    "hash": "dd300d7e01d5abe72068fde2e71abd784427bf0a53f01ec55a1757e7e42c23eb"
   }
  }
 },
 "nbformat": 4,
 "nbformat_minor": 5
}
