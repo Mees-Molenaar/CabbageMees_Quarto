{
 "cells": [
  {
   "cell_type": "raw",
   "metadata": {},
   "source": [
    "---\n",
    "title: \"Een Flutter App - Deel 4 - De Integration Test\"\n",
    "subtitle: \"Het schrijven van een Integration Test in Flutter\"\n",
    "date: \"2022-10-16\"\n",
    "author: \"Mees Molenaar\"\n",
    "toc: true\n",
    "categories: [Flutter, Android, DevOps, CI, Github Actions, integration test]\n",
    "page-layout: article\n",
    "image: images/DALL·E 2022-10-16 20.51.17 - Concept art of a female scientist looking at a computer showing matrix code through a.png\n",
    "---"
   ]
  },
  {
   "cell_type": "markdown",
   "metadata": {},
   "source": [
    "# Intro\n",
    "\n",
    "Goedemiddag!\n",
    "In de vorige post[^1]  heb ik Github Actions opgezet om de unit, widget en integration tests uit te voeren. Deze actions draaien bij iedere code push, maar er worden nog geen tests uitgevoerd want we hebben nog geen tests! Daarom begin ik vandaag met de integration test."
   ]
  },
  {
   "attachments": {},
   "cell_type": "markdown",
   "metadata": {},
   "source": [
    "In Flutter heb je drie soorten tests: integration, widget en unit tests. Laten we eerst kijken naar de integration tests. Dit zijn tests om de gehele app te testen. Deze test repliceert het gedrag van een gebruiker en is wat mij betreft daarom ook de belangrijkste soort test. Deze tests moeten altijd werken om te garanderen dat je app hetzelfde functioneert. Ten tweede, widget test: dit zijn tests (zoals de naam al doet vermoeden) om widgets, onderdelen van de User Interface (UI) te testen. En als laatste unit tests. Deze tests zijn handig om de werkzaamheid van losse functies of classes te testen. En deze tests zouden zo simpel moeten zijn dat ze zelfs op de pc van je oma kunnen draaien (ben de bron van deze quote kwijt). Maar waarom testen wij eigenlijk?\n",
    "\n",
    "PS: [Hier is de Github repository](https://github.com/Mees-Molenaar/blog-daily-practices-app)"
   ]
  },
  {
   "cell_type": "markdown",
   "metadata": {},
   "source": [
    "# Integration Test\n",
    "\n",
    "Wat wil ik eigenlijk testen met de integration test? Om dat te weten ga ik terug naar het oorspronkelijke idee[^2]. Dus de app hoort een lijst van “practices” weer te geven met één actieve practice per dag. Deze actieve practice is gemarkeerd door een andere kleurencombinatie (zie schets hieronder)."
   ]
  },
  {
   "cell_type": "markdown",
   "metadata": {},
   "source": [
    "![](images/flutter_deel_4_ruwe_schets.PNG)"
   ]
  },
  {
   "cell_type": "markdown",
   "metadata": {},
   "source": [
    "In bovenstaande (hele ruwe) schets heb ik de belangrijke punten omcirkeld. Omdat de practices hardcoded in de app staan kan ik ervan uitgaan dat deze practices op volgorde staan. Daardoor kan je een test schrijven die de volgorde gebruikt: de eerste practice staat altijd in de lijst wanneer je de app start en ook moet je wanneer je naar beneden scrollt de laatste practice kunnen zien. Als laatste moet één practice van de lijst actief staan. Wanneer ik deze drie tests heb gemaakt (voor de MVP), wordt bij nieuwe code geverifieerd of de app nog werkt waardoor we zonder angst code kunnen aanpassen. Met dit plan kan ik beginnen om de tests te schrijven."
   ]
  },
  {
   "cell_type": "markdown",
   "metadata": {},
   "source": [
    "# Integration Tests met Flutter\n",
    "\n",
    "Als eerste, om integration tests in Flutter te schrijven, heb je de integration_test[^3]  en de flutter_test[^4] packages nodig. Vervolgens kan je de tests gaan schrijven (complete test code staat hieronder met extra commentaar).\n"
   ]
  },
  {
   "attachments": {},
   "cell_type": "markdown",
   "metadata": {},
   "source": [
    "```default\n",
    "import 'package:daily_practices_app/app/app.dart';\n",
    "import 'package:flutter/material.dart';\n",
    "import 'package:flutter_test/flutter_test.dart';\n",
    "import 'package:integration_test/integration_test.dart';\n",
    "\n",
    "void main() {\n",
    "  IntegrationTestWidgetsFlutterBinding.ensureInitialized();\n",
    "\n",
    "  group('end-to-end test', () {\n",
    "    testWidgets('all practices are in the list and one is active',\n",
    "        (tester) async {\n",
    "      await tester.pumpWidget(\n",
    "        const DailyPracticeApp(),\n",
    "      );\n",
    "\n",
    "      // Wait till app is loaded\n",
    "      await Future.delayed(const Duration(seconds: 3), () {});\n",
    "\n",
    "      // Verify that the list can be found\n",
    "      final listFinder = find.byType(Scrollable);\n",
    "      expect(listFinder, findsOneWidget);\n",
    "\n",
    "      // Verify that the first practice can be found\n",
    "      expect(find.text('Sleep eight hours'), findsOneWidget);\n",
    "\n",
    "      // Scroll to the bottom\n",
    "      await tester.fling(\n",
    "        listFinder,\n",
    "        const Offset(0, -500),\n",
    "        10000,\n",
    "      );\n",
    "      await tester.pumpAndSettle();\n",
    "\n",
    "      // Verify that the last practice can be found\n",
    "      expect(find.text('Deep breathing'), findsOneWidget);\n",
    "\n",
    "      // Scroll back to the top\n",
    "      await tester.fling(\n",
    "        listFinder,\n",
    "        const Offset(0, 500),\n",
    "        10000,\n",
    "      );\n",
    "      await tester.pumpAndSettle();\n",
    "\n",
    "      final activeItemFinder = find.byKey(const ValueKey('ActivePractice'));\n",
    "\n",
    "      // Find the active practice\n",
    "      await tester.scrollUntilVisible(\n",
    "        activeItemFinder,\n",
    "        500.0,\n",
    "        scrollable: listFinder,\n",
    "      );\n",
    "\n",
    "      expect(activeItemFinder, findsOneWidget);\n",
    "    });\n",
    "  });\n",
    "}\n",
    "```"
   ]
  },
  {
   "cell_type": "markdown",
   "metadata": {},
   "source": [
    "Ik begin met ``` IntegrationTestWidgetsFlutterBinding.ensureInitialized(); ``` zodat de integration test ook kan worden uitgevoerd op een fysiek toestel. Daarna maak ik een nieuwe groep omdat je met groeperen van testen gemakkelijk een structuur aan je testen mee kunt geven. In deze groep wordt de test gemaakt met ```testWidgets()```. In de callback van testWidgets wordt er een instantie van WidgetTester teruggeven (in onderstaande code opgeslagen als tester). Deze instantie is belangrijk omdat je hiermee onder andere kunt scrollen in je app! "
   ]
  },
  {
   "cell_type": "markdown",
   "metadata": {},
   "source": [
    "Vervolgens zorg je er met ```pumpWidget()``` voor dat de gegeven widget wordt gerenderd (ofwel weergegeven). Daarna wacht ik kort zodat ik zeker weet dat het laden van de app voltooid is. Dan ga ik met Finders op zoek naar de scrollbare lijst en de eerste, laatste en actieve practice. Hierbij gebruik ik de ```fling()``` en ```scrollUntilVisible()``` methodes van WidgetTester om te scrollen. Als laatste gebruik ik ```expect()``` om te verifiëren of de Finders de practices daadwerkelijk gevonden hebben.\n"
   ]
  },
  {
   "attachments": {},
   "cell_type": "markdown",
   "metadata": {},
   "source": [
    "Om de test na het maken ervan lokaal uit te voeren gebruik je deze command (integration_test is de mapnaam waar ik de integration_test heb opgeslagen)\n",
    "\n",
    "> flutter test integration_test"
   ]
  },
  {
   "cell_type": "markdown",
   "metadata": {},
   "source": [
    "Deze test zal eerst falen, maar dat is goed! Volgens de Test Driven Development (TDD) principe mag je dan namelijk beginnen met het schrijven van de “echte code”. Maar dat is voor de volgende keer.\n",
    "\n",
    "Aju :)!\n",
    "\n",
    "PS: Meer informatie over integration test in de Flutter documentatie[^5] [^6]."
   ]
  },
  {
   "cell_type": "markdown",
   "metadata": {},
   "source": [
    "[^1]: (https://cabbagemees.nl/flutter/android/devops/ci/github%20actions/2022/09/27/Flutter-app-deel-3-CI-nog-geen-CD.html)\n",
    "\n",
    "[^2]: (https://cabbagemees.nl/flutter/android/devops/2022/06/27/Flutter-app-deel-1-voorbereiding.html)\n",
    "\n",
    "[^3]: (https://github.com/flutter/flutter/tree/main/packages/integration_test#integration_test)\n",
    "\n",
    "[^4]: (https://api.flutter.dev/flutter/flutter_test/flutter_test-library.html)\n",
    "\n",
    "[^5]: (https://docs.flutter.dev/cookbook/testing/widget/scrolling)\n",
    "\n",
    "[^6]: (https://docs.flutter.dev/cookbook/testing/integration/introduction)"
   ]
  }
 ],
 "metadata": {
  "kernelspec": {
   "display_name": "Python 3.9.13 64-bit",
   "language": "python",
   "name": "python3"
  },
  "language_info": {
   "name": "python",
   "version": "3.9.13 (main, May 24 2022, 21:13:51) \n[Clang 13.1.6 (clang-1316.0.21.2)]"
  },
  "orig_nbformat": 4,
  "vscode": {
   "interpreter": {
    "hash": "b0fa6594d8f4cbf19f97940f81e996739fb7646882a419484c72d19e05852a7e"
   }
  }
 },
 "nbformat": 4,
 "nbformat_minor": 2
}
