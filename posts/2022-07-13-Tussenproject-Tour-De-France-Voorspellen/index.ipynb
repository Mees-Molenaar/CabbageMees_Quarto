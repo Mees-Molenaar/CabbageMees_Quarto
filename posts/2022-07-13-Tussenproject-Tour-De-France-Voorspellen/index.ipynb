{
 "cells": [
  {
   "cell_type": "raw",
   "metadata": {},
   "source": [
    "---\n",
    "title: \"Tussenproject - Tour de France Voorpspellen met Machine Learning\"\n",
    "subtitle: \"Best presterende renners van de Tour de France voorspellen\"\n",
    "date: \"2022-07-13\"\n",
    "author: \"Mees Molenaar\"\n",
    "toc: true\n",
    "categories: [Python, Tussenproject, AI, ML]\n",
    "page-layout: article\n",
    "image: images/DALL·E 2022-08-26 17.15.37 - A 4k photo of cyberpunk cyborgs riding futuristic bicycles .png\n",
    "---"
   ]
  },
  {
   "cell_type": "code",
   "execution_count": 4,
   "metadata": {},
   "outputs": [],
   "source": [
    "#| echo: false\n",
    "from bs4 import BeautifulSoup\n",
    "import requests\n",
    "import pprint\n",
    "import plotly.express as px\n",
    "import pandas as pd\n",
    "from IPython.display import HTML"
   ]
  },
  {
   "cell_type": "markdown",
   "metadata": {},
   "source": [
    "Het jaarlijkse wielerspektakel de Tour de France staat weer voor de deur! Dat betekent ook dat ik renners mag gaan kiezen voor de eveneens jaarlijks terugkerende Wielerpoule (in het kort, je kiest een aantal wielrenners die mee gaan doen met de Tour en op basis van hun uitslag haal je punten). Nu heb ik de laatste jaren het wielrennen niet tot nauwelijks gevolgd waardoor ik geen idee heb welke renners er in vorm zijn. Daarom heb ik weer besloten om mijn programmeer en machine learning (ML) vaardigheden te gebruiken. Hiermee hoop ik het beste team samen te stellen. Als eerste hebben we data nodig om de beste renners te kunnen voorspellen en gelukkig is er een mooie website waar wij die data vanaf kunnen halen!"
   ]
  },
  {
   "cell_type": "markdown",
   "metadata": {},
   "source": [
    "# Data van een website halen"
   ]
  },
  {
   "cell_type": "markdown",
   "metadata": {},
   "source": [
    "Om met Python data van een website te halen heb je verschillende Python packages ter beschikking. Een van deze packages heb ik al vaker gebruikt en voor dit project ga ik dat weer gebruiken, BeautifulSoup (BS). Met BS kan je makkelijk navigeren door de HTML (opmaak) van een website en daarvandaan dan ook tekst ophalen. Maar dan moet je wel een website kunnen opvragen met coderen! Gelukkig kan dit ook met Python, namelijk met de requests package. In onderstaande code zie je een voorbeeld van hoe je een website in een BS object laad (zie hieronder)."
   ]
  },
  {
   "cell_type": "code",
   "execution_count": 3,
   "metadata": {},
   "outputs": [
    {
     "name": "stdout",
     "output_type": "stream",
     "text": [
      "Tour de France 2022 Stage 4 results\n"
     ]
    }
   ],
   "source": [
    "# Example: How to open a page using requests and BeautifulSoup\n",
    "\n",
    "race_url = r\"https://www.procyclingstats.com/race/tour-de-france/2022/stage-4\"\n",
    "\n",
    "# Perform a get request on the url\n",
    "req = requests.get(race_url)\n",
    "\n",
    "# Make a BeautifulSoup object from the requests's text\n",
    "soup = BeautifulSoup(req.text, \"lxml\")\n",
    "\n",
    "# Get the title of the page\n",
    "print(soup.find('title').string)"
   ]
  },
  {
   "cell_type": "markdown",
   "metadata": {},
   "source": [
    "Vervolgens kan je ingebouwde methodes van het BS object gebruiken om door de HTML te zoeken. Zelf kijk ik eerst in de internet browser naar de elementen van de website waarvan ik de data wil. Afhankelijk van de browser die je gebruikt kan je elementen inspecteren. Ik let daarbij op het het HTML type (div, table, etc) en of het een class of id heeft. Met deze informatie kan je dan een specifiek element zoeken, zoals de top-20 van een uitslag (zie hieronder)."
   ]
  },
  {
   "cell_type": "code",
   "execution_count": 4,
   "metadata": {},
   "outputs": [
    {
     "name": "stdout",
     "output_type": "stream",
     "text": [
      "{1: 'VAN AERT Wout',\n",
      " 2: 'PHILIPSEN Jasper',\n",
      " 3: 'LAPORTE Christophe',\n",
      " 4: 'KRISTOFF Alexander',\n",
      " 5: 'SAGAN Peter',\n",
      " 6: 'MOZZATO Luca',\n",
      " 7: 'VAN POPPEL Danny',\n",
      " 8: 'HOFSTETTER Hugo',\n",
      " 9: 'MATTHEWS Michael',\n",
      " 10: 'THOMAS Benjamin',\n",
      " 11: 'DAINESE Alberto',\n",
      " 12: 'PEDERSEN Mads',\n",
      " 13: 'JAKOBSEN Fabio',\n",
      " 14: 'PASQUALON Andrea',\n",
      " 15: 'WRIGHT Fred',\n",
      " 16: 'NAESEN Oliver',\n",
      " 17: 'NEILANDS Krists',\n",
      " 18: 'KRIEGER Alexander',\n",
      " 19: 'BISSEGGER Stefan',\n",
      " 20: 'VLASOV Aleksandr'}\n"
     ]
    }
   ],
   "source": [
    "# Example: Getting the top-20 results of a race\n",
    "\n",
    "race_url = r\"https://www.procyclingstats.com/race/tour-de-france/2022/stage-4\"\n",
    "\n",
    "# Perform a get request on the url\n",
    "req = requests.get(race_url)\n",
    "\n",
    "# Make a BeautifulSoup object from the requests's text\n",
    "soup = BeautifulSoup(req.text, \"lxml\")\n",
    "\n",
    "# I used the browser to find the element we are interested in\n",
    "result_list = soup.find(\"table\", class_=\"results basic moblist10\").find(\"tbody\")\n",
    "\n",
    "# Each result is in a table row (tr)\n",
    "results = result_list.find_all(\"tr\")\n",
    "\n",
    "race_top_20 = {}\n",
    "\n",
    "for i in range(20):\n",
    "    result = results[i]\n",
    "    \n",
    "    # Again, use your browser to find the element you are interested in\n",
    "    rider = result.find_all(\"a\")[0].text\n",
    "    \n",
    "    race_top_20[i + 1] = rider \n",
    "    \n",
    "pprint.pprint(race_top_20)"
   ]
  },
  {
   "cell_type": "markdown",
   "metadata": {},
   "source": [
    "# De opgehaalde data"
   ]
  },
  {
   "cell_type": "markdown",
   "metadata": {},
   "source": [
    "In totaal had ik deze data opgehaald:\n",
    "* Van de Tour de France van 2000 - 2021 alle renners die mee deden\n",
    "* Via al die renners, voor ieder jaar, de races en eindklassering URLs\n",
    "* Voor alle renners de geboortedatum, de teams en de PCS score (de laatste twee voor ieder jaar)\n",
    "* Voor iedere race de datum, top-20 en de gemiddelde PCS score van de top-20\n",
    "\n",
    "Nadat al deze data is verzameld kunnen we deze data gebruiken om de features te gaan maken waarmee je een ML model kunt trainen.\n"
   ]
  },
  {
   "cell_type": "markdown",
   "metadata": {},
   "source": [
    "# Features maken"
   ]
  },
  {
   "cell_type": "markdown",
   "metadata": {},
   "source": [
    "Een feature is een deel van de totale informatie waarmee je een voorspelling kunt maken. Bijvoorbeeld, wanneer je iemands gewicht wilt voorspellen aan de hand van iemands lengte, dan is lengte je feature (zie grafiek hieronder). Hoewel het verband tussen gewicht en lengte niet 1 op 1 is zijn over het algemeen lange mensen zwaarder dan kleine mensen. Een andere feature die je dan zou kunnen toevoegen om je voorspelling te verbeteren is bijvoorbeeld het aantal uren sporten per week. Samen met de lengte zal dit betere voorspellingen geven omdat (vaak) wanneer je meer sport je geen uitschieter hebt in gewicht (een nogal grove aanname). Zoals je misschien merkt kan je vele features bedenken en daarom heb je zeker een mate van creativiteit nodig! \n"
   ]
  },
  {
   "cell_type": "code",
   "execution_count": 5,
   "metadata": {},
   "outputs": [
    {
     "data": {
      "text/html": [
       "<html>\n",
       "<head><meta charset=\"utf-8\" /></head>\n",
       "<body>\n",
       "    <div>                        <script type=\"text/javascript\">window.PlotlyConfig = {MathJaxConfig: 'local'};</script>\n",
       "        <script src=\"https://cdn.plot.ly/plotly-2.16.1.min.js\"></script>                <div id=\"9e5089ad-1789-4dbf-9113-23a71f609f40\" class=\"plotly-graph-div\" style=\"height:100%; width:100%;\"></div>            <script type=\"text/javascript\">                                    window.PLOTLYENV=window.PLOTLYENV || {};                                    if (document.getElementById(\"9e5089ad-1789-4dbf-9113-23a71f609f40\")) {                    Plotly.newPlot(                        \"9e5089ad-1789-4dbf-9113-23a71f609f40\",                        [{\"hovertemplate\":\"lengte=%{x}<br>gewicht=%{y}<extra></extra>\",\"legendgroup\":\"\",\"marker\":{\"color\":\"#636efa\",\"symbol\":\"circle\"},\"mode\":\"markers\",\"name\":\"\",\"orientation\":\"v\",\"showlegend\":false,\"x\":[60,70,80,90,100,110,120,130,140,150,160,170,180,190],\"xaxis\":\"x\",\"y\":[5.5,8.0,11.5,13.5,15.8,18.2,22.0,24.0,28.0,36.0,45.0,60.0,64.0,75.0],\"yaxis\":\"y\",\"type\":\"scatter\"},{\"hovertemplate\":\"<b>OLS trendline</b><br>gewicht = 0.507451 * lengte + -32.967<br>R<sup>2</sup>=0.903689<br><br>lengte=%{x}<br>gewicht=%{y} <b>(trend)</b><extra></extra>\",\"legendgroup\":\"\",\"marker\":{\"color\":\"#636efa\",\"symbol\":\"circle\"},\"mode\":\"lines\",\"name\":\"\",\"showlegend\":false,\"x\":[60,70,80,90,100,110,120,130,140,150,160,170,180,190],\"xaxis\":\"x\",\"y\":[-2.5200000000000173,2.5545054945054773,7.629010989010979,12.703516483516474,17.778021978021975,22.85252747252747,27.92703296703297,33.00153846153847,38.07604395604396,43.15054945054946,48.225054945054964,53.29956043956045,58.37406593406595,63.448571428571455],\"yaxis\":\"y\",\"type\":\"scatter\"}],                        {\"template\":{\"data\":{\"histogram2dcontour\":[{\"type\":\"histogram2dcontour\",\"colorbar\":{\"outlinewidth\":0,\"ticks\":\"\"},\"colorscale\":[[0.0,\"#0d0887\"],[0.1111111111111111,\"#46039f\"],[0.2222222222222222,\"#7201a8\"],[0.3333333333333333,\"#9c179e\"],[0.4444444444444444,\"#bd3786\"],[0.5555555555555556,\"#d8576b\"],[0.6666666666666666,\"#ed7953\"],[0.7777777777777778,\"#fb9f3a\"],[0.8888888888888888,\"#fdca26\"],[1.0,\"#f0f921\"]]}],\"choropleth\":[{\"type\":\"choropleth\",\"colorbar\":{\"outlinewidth\":0,\"ticks\":\"\"}}],\"histogram2d\":[{\"type\":\"histogram2d\",\"colorbar\":{\"outlinewidth\":0,\"ticks\":\"\"},\"colorscale\":[[0.0,\"#0d0887\"],[0.1111111111111111,\"#46039f\"],[0.2222222222222222,\"#7201a8\"],[0.3333333333333333,\"#9c179e\"],[0.4444444444444444,\"#bd3786\"],[0.5555555555555556,\"#d8576b\"],[0.6666666666666666,\"#ed7953\"],[0.7777777777777778,\"#fb9f3a\"],[0.8888888888888888,\"#fdca26\"],[1.0,\"#f0f921\"]]}],\"heatmap\":[{\"type\":\"heatmap\",\"colorbar\":{\"outlinewidth\":0,\"ticks\":\"\"},\"colorscale\":[[0.0,\"#0d0887\"],[0.1111111111111111,\"#46039f\"],[0.2222222222222222,\"#7201a8\"],[0.3333333333333333,\"#9c179e\"],[0.4444444444444444,\"#bd3786\"],[0.5555555555555556,\"#d8576b\"],[0.6666666666666666,\"#ed7953\"],[0.7777777777777778,\"#fb9f3a\"],[0.8888888888888888,\"#fdca26\"],[1.0,\"#f0f921\"]]}],\"heatmapgl\":[{\"type\":\"heatmapgl\",\"colorbar\":{\"outlinewidth\":0,\"ticks\":\"\"},\"colorscale\":[[0.0,\"#0d0887\"],[0.1111111111111111,\"#46039f\"],[0.2222222222222222,\"#7201a8\"],[0.3333333333333333,\"#9c179e\"],[0.4444444444444444,\"#bd3786\"],[0.5555555555555556,\"#d8576b\"],[0.6666666666666666,\"#ed7953\"],[0.7777777777777778,\"#fb9f3a\"],[0.8888888888888888,\"#fdca26\"],[1.0,\"#f0f921\"]]}],\"contourcarpet\":[{\"type\":\"contourcarpet\",\"colorbar\":{\"outlinewidth\":0,\"ticks\":\"\"}}],\"contour\":[{\"type\":\"contour\",\"colorbar\":{\"outlinewidth\":0,\"ticks\":\"\"},\"colorscale\":[[0.0,\"#0d0887\"],[0.1111111111111111,\"#46039f\"],[0.2222222222222222,\"#7201a8\"],[0.3333333333333333,\"#9c179e\"],[0.4444444444444444,\"#bd3786\"],[0.5555555555555556,\"#d8576b\"],[0.6666666666666666,\"#ed7953\"],[0.7777777777777778,\"#fb9f3a\"],[0.8888888888888888,\"#fdca26\"],[1.0,\"#f0f921\"]]}],\"surface\":[{\"type\":\"surface\",\"colorbar\":{\"outlinewidth\":0,\"ticks\":\"\"},\"colorscale\":[[0.0,\"#0d0887\"],[0.1111111111111111,\"#46039f\"],[0.2222222222222222,\"#7201a8\"],[0.3333333333333333,\"#9c179e\"],[0.4444444444444444,\"#bd3786\"],[0.5555555555555556,\"#d8576b\"],[0.6666666666666666,\"#ed7953\"],[0.7777777777777778,\"#fb9f3a\"],[0.8888888888888888,\"#fdca26\"],[1.0,\"#f0f921\"]]}],\"mesh3d\":[{\"type\":\"mesh3d\",\"colorbar\":{\"outlinewidth\":0,\"ticks\":\"\"}}],\"scatter\":[{\"fillpattern\":{\"fillmode\":\"overlay\",\"size\":10,\"solidity\":0.2},\"type\":\"scatter\"}],\"parcoords\":[{\"type\":\"parcoords\",\"line\":{\"colorbar\":{\"outlinewidth\":0,\"ticks\":\"\"}}}],\"scatterpolargl\":[{\"type\":\"scatterpolargl\",\"marker\":{\"colorbar\":{\"outlinewidth\":0,\"ticks\":\"\"}}}],\"bar\":[{\"error_x\":{\"color\":\"#2a3f5f\"},\"error_y\":{\"color\":\"#2a3f5f\"},\"marker\":{\"line\":{\"color\":\"#E5ECF6\",\"width\":0.5},\"pattern\":{\"fillmode\":\"overlay\",\"size\":10,\"solidity\":0.2}},\"type\":\"bar\"}],\"scattergeo\":[{\"type\":\"scattergeo\",\"marker\":{\"colorbar\":{\"outlinewidth\":0,\"ticks\":\"\"}}}],\"scatterpolar\":[{\"type\":\"scatterpolar\",\"marker\":{\"colorbar\":{\"outlinewidth\":0,\"ticks\":\"\"}}}],\"histogram\":[{\"marker\":{\"pattern\":{\"fillmode\":\"overlay\",\"size\":10,\"solidity\":0.2}},\"type\":\"histogram\"}],\"scattergl\":[{\"type\":\"scattergl\",\"marker\":{\"colorbar\":{\"outlinewidth\":0,\"ticks\":\"\"}}}],\"scatter3d\":[{\"type\":\"scatter3d\",\"line\":{\"colorbar\":{\"outlinewidth\":0,\"ticks\":\"\"}},\"marker\":{\"colorbar\":{\"outlinewidth\":0,\"ticks\":\"\"}}}],\"scattermapbox\":[{\"type\":\"scattermapbox\",\"marker\":{\"colorbar\":{\"outlinewidth\":0,\"ticks\":\"\"}}}],\"scatterternary\":[{\"type\":\"scatterternary\",\"marker\":{\"colorbar\":{\"outlinewidth\":0,\"ticks\":\"\"}}}],\"scattercarpet\":[{\"type\":\"scattercarpet\",\"marker\":{\"colorbar\":{\"outlinewidth\":0,\"ticks\":\"\"}}}],\"carpet\":[{\"aaxis\":{\"endlinecolor\":\"#2a3f5f\",\"gridcolor\":\"white\",\"linecolor\":\"white\",\"minorgridcolor\":\"white\",\"startlinecolor\":\"#2a3f5f\"},\"baxis\":{\"endlinecolor\":\"#2a3f5f\",\"gridcolor\":\"white\",\"linecolor\":\"white\",\"minorgridcolor\":\"white\",\"startlinecolor\":\"#2a3f5f\"},\"type\":\"carpet\"}],\"table\":[{\"cells\":{\"fill\":{\"color\":\"#EBF0F8\"},\"line\":{\"color\":\"white\"}},\"header\":{\"fill\":{\"color\":\"#C8D4E3\"},\"line\":{\"color\":\"white\"}},\"type\":\"table\"}],\"barpolar\":[{\"marker\":{\"line\":{\"color\":\"#E5ECF6\",\"width\":0.5},\"pattern\":{\"fillmode\":\"overlay\",\"size\":10,\"solidity\":0.2}},\"type\":\"barpolar\"}],\"pie\":[{\"automargin\":true,\"type\":\"pie\"}]},\"layout\":{\"autotypenumbers\":\"strict\",\"colorway\":[\"#636efa\",\"#EF553B\",\"#00cc96\",\"#ab63fa\",\"#FFA15A\",\"#19d3f3\",\"#FF6692\",\"#B6E880\",\"#FF97FF\",\"#FECB52\"],\"font\":{\"color\":\"#2a3f5f\"},\"hovermode\":\"closest\",\"hoverlabel\":{\"align\":\"left\"},\"paper_bgcolor\":\"white\",\"plot_bgcolor\":\"#E5ECF6\",\"polar\":{\"bgcolor\":\"#E5ECF6\",\"angularaxis\":{\"gridcolor\":\"white\",\"linecolor\":\"white\",\"ticks\":\"\"},\"radialaxis\":{\"gridcolor\":\"white\",\"linecolor\":\"white\",\"ticks\":\"\"}},\"ternary\":{\"bgcolor\":\"#E5ECF6\",\"aaxis\":{\"gridcolor\":\"white\",\"linecolor\":\"white\",\"ticks\":\"\"},\"baxis\":{\"gridcolor\":\"white\",\"linecolor\":\"white\",\"ticks\":\"\"},\"caxis\":{\"gridcolor\":\"white\",\"linecolor\":\"white\",\"ticks\":\"\"}},\"coloraxis\":{\"colorbar\":{\"outlinewidth\":0,\"ticks\":\"\"}},\"colorscale\":{\"sequential\":[[0.0,\"#0d0887\"],[0.1111111111111111,\"#46039f\"],[0.2222222222222222,\"#7201a8\"],[0.3333333333333333,\"#9c179e\"],[0.4444444444444444,\"#bd3786\"],[0.5555555555555556,\"#d8576b\"],[0.6666666666666666,\"#ed7953\"],[0.7777777777777778,\"#fb9f3a\"],[0.8888888888888888,\"#fdca26\"],[1.0,\"#f0f921\"]],\"sequentialminus\":[[0.0,\"#0d0887\"],[0.1111111111111111,\"#46039f\"],[0.2222222222222222,\"#7201a8\"],[0.3333333333333333,\"#9c179e\"],[0.4444444444444444,\"#bd3786\"],[0.5555555555555556,\"#d8576b\"],[0.6666666666666666,\"#ed7953\"],[0.7777777777777778,\"#fb9f3a\"],[0.8888888888888888,\"#fdca26\"],[1.0,\"#f0f921\"]],\"diverging\":[[0,\"#8e0152\"],[0.1,\"#c51b7d\"],[0.2,\"#de77ae\"],[0.3,\"#f1b6da\"],[0.4,\"#fde0ef\"],[0.5,\"#f7f7f7\"],[0.6,\"#e6f5d0\"],[0.7,\"#b8e186\"],[0.8,\"#7fbc41\"],[0.9,\"#4d9221\"],[1,\"#276419\"]]},\"xaxis\":{\"gridcolor\":\"white\",\"linecolor\":\"white\",\"ticks\":\"\",\"title\":{\"standoff\":15},\"zerolinecolor\":\"white\",\"automargin\":true,\"zerolinewidth\":2},\"yaxis\":{\"gridcolor\":\"white\",\"linecolor\":\"white\",\"ticks\":\"\",\"title\":{\"standoff\":15},\"zerolinecolor\":\"white\",\"automargin\":true,\"zerolinewidth\":2},\"scene\":{\"xaxis\":{\"backgroundcolor\":\"#E5ECF6\",\"gridcolor\":\"white\",\"linecolor\":\"white\",\"showbackground\":true,\"ticks\":\"\",\"zerolinecolor\":\"white\",\"gridwidth\":2},\"yaxis\":{\"backgroundcolor\":\"#E5ECF6\",\"gridcolor\":\"white\",\"linecolor\":\"white\",\"showbackground\":true,\"ticks\":\"\",\"zerolinecolor\":\"white\",\"gridwidth\":2},\"zaxis\":{\"backgroundcolor\":\"#E5ECF6\",\"gridcolor\":\"white\",\"linecolor\":\"white\",\"showbackground\":true,\"ticks\":\"\",\"zerolinecolor\":\"white\",\"gridwidth\":2}},\"shapedefaults\":{\"line\":{\"color\":\"#2a3f5f\"}},\"annotationdefaults\":{\"arrowcolor\":\"#2a3f5f\",\"arrowhead\":0,\"arrowwidth\":1},\"geo\":{\"bgcolor\":\"white\",\"landcolor\":\"#E5ECF6\",\"subunitcolor\":\"white\",\"showland\":true,\"showlakes\":true,\"lakecolor\":\"white\"},\"title\":{\"x\":0.05},\"mapbox\":{\"style\":\"light\"}}},\"xaxis\":{\"anchor\":\"y\",\"domain\":[0.0,1.0],\"title\":{\"text\":\"lengte\"}},\"yaxis\":{\"anchor\":\"x\",\"domain\":[0.0,1.0],\"title\":{\"text\":\"gewicht\"}},\"legend\":{\"tracegroupgap\":0},\"title\":{\"text\":\"Lengte en gewicht van jongens 1-21 jaar\"}},                        {\"responsive\": true}                    )                };                            </script>        </div>\n",
       "</body>\n",
       "</html>"
      ],
      "text/plain": [
       "<IPython.core.display.HTML object>"
      ]
     },
     "execution_count": 5,
     "metadata": {},
     "output_type": "execute_result"
    }
   ],
   "source": [
    "#| eval: true\n",
    "# Lengte en gewicht van jongens 1-21 jaar \n",
    "lengte = [60, 70, 80, 90, 100, 110, 120, 130, 140, 150, 160, 170, 180, 190]\n",
    "gewicht = [5.5, 8, 11.5, 13.5, 15.8, 18.2, 22, 24, 28, 36, 45, 60, 64, 75]\n",
    "\n",
    "df = pd.DataFrame(zip(lengte, gewicht), columns=[\"lengte\", \"gewicht\"])\n",
    "\n",
    "fig = px.scatter(df, x=\"lengte\", y=\"gewicht\", title=\"Lengte en gewicht van jongens 1-21 jaar\", trendline=\"ols\")\n",
    "HTML(fig.to_html(include_plotlyjs='cdn', include_mathjax=False))"
   ]
  },
  {
   "cell_type": "markdown",
   "metadata": {},
   "source": [
    "> data van: https://www.tno.nl/groei"
   ]
  },
  {
   "cell_type": "markdown",
   "metadata": {},
   "source": [
    "Twee jaar geleden (v1) had ik ook een ML model gemaakt maar dit keer wilde ik nieuwe features gebruiken. In V1 had ik het idee om de races op te delen in types (vlak, heuvelachtig met vlakke finish, heuvelachtig met finish bergop, gebergte met vlakke finish en gebergte met finish bergop; Voor de races waar dit niet voor bekend was had ik zelfs een model getraind om dat te voorspellen). Vervolgens had ik voor iedere types de plekken 1 t/m 4, 5 t/m 8 en 9 t/m 12 ingedeeld (zie Tabel hieronder). Voor iedere renner telde ik dan in het voorgaande jaar hoe vaak iemand deze uitslag in deze type had (zie voorbeeld van Chris Froome hieronder). Hoewel ik best tevreden was met deze features, namen ze niet mee hoe sterk het deelnemersveld was. Wanneer je veel wint maar je tegenstand niet heel sterk is, is deze overwinning minder relevant (weer een grove aanname) in de Tour, want in de Tour is het deelnemersveld vaak erg sterk. Daarom heb ik voor deze Tour de France nieuwe features bedacht.\n"
   ]
  },
  {
   "cell_type": "markdown",
   "metadata": {},
   "source": [
    "| Features | Chris Froome |\n",
    "|----------|-------|\n",
    "| PCS | 1377 |\n",
    "| Team PCS | 4172 |\n",
    "| Age | 29 |\n",
    "|flat1-4| 1.0 |\n",
    "|flat5-8| 0.0 |\n",
    "|flat9-12| 2.0  |\n",
    "|hills(flat)1-4| 1.0  |\n",
    "|hills(flat)5-8| 0.0 |\n",
    "|hills(flat)9-12| 1.0 |\n",
    "|hills(uphill)1-4| 2.0 |\n",
    "|hills(uphill)5-8| 1.0 |\n",
    "|hills(uphill)9-12| 1.0 |\n",
    "|mountains(flat)1-4| 1.0 |\n",
    "|mountains(flat)5-8| 0.0 |\n",
    "|mountains(flat)9-12| 1.0 |\n",
    "|mountains(uphill)1-4| 4.0 |\n",
    "|mountains(uphill)5-8| 5.0 |\n",
    "|mountains(uphill)9-12| 1.0 |\n",
    "|gc1-4| 3.0 |\n",
    "|gc5-8| 1.0 |\n",
    "|gc9-12| 1.0 |"
   ]
  },
  {
   "cell_type": "markdown",
   "metadata": {},
   "source": [
    "Voor deze Tour nemen we bij iedere rit dus de sterkte van het deelnemersveld mee. Dat doen we door de gemiddelde PCS score van de top-20 uit te rekenen. Vervolgens verdelen we de ritten in 5 kwantielen (zeer weinig competitief, weinig competitief, competitief, erg competitief en zeer erg competitief). En daarbij had ik dan dit keer de resultaten als volgt verdeeld: 1 t/m 5, 6 t/m 10, 11 t/m 15 en 16 t/m 20 (zie tabel met voorbeeld van Wout van Aert hieronder). "
   ]
  },
  {
   "cell_type": "markdown",
   "metadata": {},
   "source": [
    "| Features | Wout van Aert |\n",
    "|----------|-------|\n",
    "| PCS | 2820 |\n",
    "| Team PCS | 9724 |\n",
    "| PCS ratio | 0.29 |\n",
    "| Age | 27 |\n",
    "|top_5s_category_0| 0 |\n",
    "|top_10s_category_0| 0 |\n",
    "|top_15s_category_0| 0  |\n",
    "|top_20s_category_0| 0  |\n",
    "|top_5s_category_1| 0 |\n",
    "|top_10s_category_1| 0.0 |\n",
    "|top_15s_category_1| 0  |\n",
    "|top_20s_category_1| 0  |\n",
    "|top_5s_category_2| 2 |\n",
    "|top_10s_category_2| 0 |\n",
    "|top_15s_category_2| 0  |\n",
    "|top_20s_category_2| 0  |\n",
    "|top_5s_category_3| 1 |\n",
    "|top_10s_category_3| 1 |\n",
    "|top_15s_category_3| 0 |\n",
    "|top_20s_category_3| 0  |\n",
    "|top_5s_category_4| 11 |\n",
    "|top_10s_category_4| 2 |\n",
    "|top_15s_category_4| 2  |\n",
    "|top_20s_category_4| 0  |\n",
    "|top_5s_category_gc| 1.0 |\n",
    "|top_10s_category_gc| 0.0 |\n",
    "|top_15s_category_gc| 0 |\n",
    "|top_20s_category_gc| 0 |"
   ]
  },
  {
   "cell_type": "markdown",
   "metadata": {},
   "source": [
    "Daarnaast had ik nog een aantal renner specifieke features: leeftijd, PCS score, PCS punten van het team en PCS ratio (eigen PCS / team PCS). Nu hebben we alle features waarop we een ML model kunnen trainen!"
   ]
  },
  {
   "cell_type": "markdown",
   "metadata": {},
   "source": [
    "# Het trainen van een model"
   ]
  },
  {
   "cell_type": "markdown",
   "metadata": {},
   "source": [
    "Voor data, zoals in dit project, in een tabel structuur is het meest gebruikte en vaak ook beste model een vorm van een gradient boosted tree. In het kort is een tree vaak verdeeld in een aantal ja/nee vragen. Een voorbeeld van een simpele tree is een decision tree (voorbeeld hieronder). Het idee van deze tree is in de loop van de tijd al meer uitgebreid, van random forests naar dus gradient boosted trees. Dit zijn (simpel en kort door de bocht) een verzameling van meerdere trees die na het trainen heel goed zijn om een voorspelling te maken. Een van mijn favoriete tree algoritmes is XGBoost en deze gaan we dan ook gebruiken!"
   ]
  },
  {
   "cell_type": "markdown",
   "metadata": {},
   "source": [
    "![](images/tussenproject_decision_tree_example.PNG)"
   ]
  },
  {
   "cell_type": "markdown",
   "metadata": {},
   "source": [
    "Een XGBoost model is redelijk makkelijk te trainen door (jawel alweer!) een Python package: XGBoost. Alhoewel, je hebt dan nog heel veel instellingen die kunt optimaliseren. Gelukkig heb je daar ook een goede bron voor, namelijk Gridsearch van Sklearn (alweer een package!). Wanneer je Gridsearch en XGBoost combineert kan je meerdere instellingen vergelijken en dan krijg je als resultaat de getrainde modellen (met de verschillende parameters). Je kunt dan zelfs het beste model met de beste instellingen opvragen! Ideaal en het voelt als magie!"
   ]
  },
  {
   "cell_type": "markdown",
   "metadata": {},
   "source": [
    "# De resultaten"
   ]
  },
  {
   "cell_type": "markdown",
   "metadata": {},
   "source": [
    "De resultaten van het model zien er op het eerste gezicht niet raar uit (zie hieronder). De volgens Wielerpoule duurste renners zitten qua voorspelling bovenin. Met voor mij als opvallendste naam Vlasov (voor mij geen bekende naam maar de laatste tijd volg ik het wielrennen nauwelijks). Om mijn team samen te stellen heb ik de voorspelde punten gedeeld door de kosten. En daar heb ik, naast de top 4, mijn team mee opgevuld. Eens zien of we mee gaan spelen voor de prijzen!"
   ]
  },
  {
   "cell_type": "markdown",
   "metadata": {},
   "source": [
    "|   | rider_name             | prediction | price | score_price_ratio |\n",
    "|---|------------------------|------------|-------|-------------------|\n",
    "|   | VAN DER POEL Mathieu   | 84.196594  | 200   | 0.420983          |\n",
    "|   | VLASOV Aleksandr       | 75.061699  | 150   | 0.500411          |\n",
    "|   | POGACAR Tadej          | 70.501328  | 200   | 0.352507          |\n",
    "|   | ROGLIC Primož          | 67.192093  | 200   | 0.335960          |\n",
    "|   | VAN AERT Wout          | 66.121864  | 200   | 0.330609          |\n",
    "|   | MARTINEZ Daniel Felipe | 58.990757  | 100   | 0.589908          |\n",
    "|   | VINGEGAARD Jonas       | 57.898109  | 150   | 0.385987          |\n",
    "|   | JAKOBSEN Fabio         | 55.955868  | 150   | 0.373039          |\n",
    "|   | KUNG Stefan            | 55.773567  | 100   | 0.557736          |\n",
    "|   | KRISTOFF Alexander     | 54.939995  | 100   | 0.549400          |\n",
    "|   | COSNEFROY Benoit       | 54.132721  | 100   | 0.541327          |\n",
    "|   | PEDERSEN Mads          | 50.576691  | 100   | 0.505767          |\n",
    "|   | MOHORIC Matej          | 50.398064  | 100   | 0.503981          |\n",
    "|   | VAN BAARLE Dylan       | 49.590599  | 100   | 0.495906          |\n",
    "|   | HOFSTETTER Hugo        | 49.079250  | 100   | 0.490793          |\n",
    "|   | EWAN Caleb             | 46.512360  | 100   | 0.465124          |\n",
    "|   | LAPORTE Christophe     | 44.920681  | 100   | 0.449207          |\n",
    "|   | TEUNS Dylan            | 44.595673  | 100   | 0.445957          |\n",
    "|   | MCNULTY Brandon        | 44.574734  | 100   | 0.445747          |\n",
    "|   | PHILIPSEN Jasper       | 44.041866  | 100   | 0.440419          |"
   ]
  },
  {
   "cell_type": "markdown",
   "metadata": {},
   "source": [
    "Tot de volgende keer en veel plezier met het volgen van de Tour de France!\n",
    "\n",
    "Mees\n",
    "\n",
    "P.S: De uiteindelijke dataset samen met de code voor het trainen van het ML model kan je vinden in [deze Github repo](https://github.com/Mees-Molenaar/cycling-fantasy-prediction/tree/master/v2).\n",
    "\n",
    "P.S 2: Tot dusver werkt het model (na ongeveer 1 week) redelijk. Helaas valt Mathieu van der Poel tegen (en die was het duurste).\n"
   ]
  }
 ],
 "metadata": {
  "kernelspec": {
   "display_name": "Python 3.9.9 ('venv': venv)",
   "language": "python",
   "name": "python3"
  },
  "language_info": {
   "codemirror_mode": {
    "name": "ipython",
    "version": 3
   },
   "file_extension": ".py",
   "mimetype": "text/x-python",
   "name": "python",
   "nbconvert_exporter": "python",
   "pygments_lexer": "ipython3",
   "version": "3.9.9"
  },
  "orig_nbformat": 4,
  "vscode": {
   "interpreter": {
    "hash": "b0b4f74a5c13f9ea866f1925e58a5207dc84b4f1a21f917f9023cf1a58573af4"
   }
  }
 },
 "nbformat": 4,
 "nbformat_minor": 2
}
