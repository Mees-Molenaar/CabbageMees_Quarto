{
 "cells": [
  {
   "cell_type": "raw",
   "metadata": {},
   "source": [
    "---\n",
    "title: \"Een Flutter App - Deel 5 - De simpelste implementatie van de App\"\n",
    "subtitle: \"Eindelijk starten met het maken van de app!\"\n",
    "date: \"2023-01-08\"\n",
    "author: \"Mees Molenaar\"\n",
    "toc: true\n",
    "categories: [Flutter, Android]\n",
    "page-layout: article\n",
    "image: images/DALL·E 2023-01-11 20.18.00 - A line of floppy disks.png\n",
    "---"
   ]
  },
  {
   "attachments": {},
   "cell_type": "markdown",
   "metadata": {},
   "source": [
    "## Intro"
   ]
  },
  {
   "attachments": {},
   "cell_type": "markdown",
   "metadata": {},
   "source": [
    "Hallo,\n",
    "In de vorige post[^1] hebben is de integration test geschreven. Nu faalt deze test omdat de app nog niet gemaakt is, maar daar gaat in deze post verandering in komen! Maar, omdat ik (zoveel mogelijk) test driven probeer te werken begint deze post opnieuw met tests... Alleen dit keer zijn het Widget tests. Deze tests lijken in eerste instantie veel op de integration test. Het verschil is dat deze tests losse onderdelen, Widgets, testen in plaats van het geheel (wat we doen met de integration test). \n",
    "\n",
    "Laten we beginnen!"
   ]
  },
  {
   "attachments": {},
   "cell_type": "markdown",
   "metadata": {},
   "source": [
    "PS: [Vind de code hier](https://github.com/Mees-Molenaar/blog-daily-practices-app/releases/tag/deel-5.2)"
   ]
  },
  {
   "attachments": {},
   "cell_type": "markdown",
   "metadata": {},
   "source": [
    "## Widget Tests\n",
    "\n",
    "Een widget test[^2] is een test wat een onderdeel van de User Interface (UI) test. Hetgeen dat er getest gaat worden is wederom gebaseerd op de ruwe schets (hieronder weergeven). En met de widget test, wordt in dat geval ook dezelfde logica getest (mede doordat de app nog niet zo complex is)."
   ]
  },
  {
   "attachments": {},
   "cell_type": "markdown",
   "metadata": {},
   "source": [
    "![](images/flutter_deel_4_ruwe_schets.PNG)"
   ]
  },
  {
   "attachments": {},
   "cell_type": "markdown",
   "metadata": {},
   "source": [
    "In onderstaande Widget test zijn de tests in verschillende groepen verdeelt, omdat dit losse Widgets zijn.\n",
    "\n",
    "De eerste groep is de DailyPracticeApp groep, en die test de Widget `DailyPracticeApp`. Wanneer je deze weergeeft verwacht ik dat de `PracticesPage` wordt weergeven. De test werkt als volgt:\n",
    "* Je rendert (weergeven van) de Widget met `tester.pumtWidget()`\n",
    "* Je zoekt de `PracticesPage` wordt weergeven met `find.byType()`\n",
    "* Je test de verwachting (`expect`) dat er 1 Widget met het type `PracticesPage` is gerendert (`findsOneWidget`).\n",
    "\n",
    "In bovenstaande test zit een structuur.\n",
    "* De test wordt voorbereid (in dit geval door je Widget te renderen)\n",
    "* Je zoekt iets (de `PracticesPage`)\n",
    "* Je test je verwachting\n",
    "\n",
    "Deze structuur wordt Arrange, Act en Assert genoemd. Al moet ik zeggen dat Arrange en Act in dit geval zijn samengevoegd tot het renderen van de Widget. Een test die deze structuur beter aanhoud zou de volgende kunnen zijn:\n",
    "* Je rendert een Widget met een knop (Arrange)\n",
    "* Je voert een actie uit, deze actie is op de knop drukken (Act)\n",
    "* Je verwacht dat onButtonClick (bijvoorbeeld) 1x wordt uitegevoerd (Assert)\n",
    "\n",
    "Je zult deze structuur in veel tests terug vinden omdat het structurenen van tests de tests leesbaarder maken!"
   ]
  },
  {
   "attachments": {},
   "cell_type": "markdown",
   "metadata": {},
   "source": [
    "De volgende test groep `PracticesPage`, test ongeveer hetzelfde, maar dan wordt er getest of er een andere Widget gerenderd wordt (`PracticesView`). Hierna volger er interessantere tests, namelijk de `PracticesView` groep.\n",
    "\n",
    "In deze groep wordt er namelijk getest of de app titel en alle practices worden gerenderd. Als eerste de app titel, die vindt je door in de AppBar te kijken (een Widget dat bovenaan je mobiele scherm verschijnt). En daarin te zoeken naar de titel 'Daily Practices'. \n",
    "\n",
    "Tot slot, wordt er  getest of alle practices in de lijst kunnen gevonden. Maar dit heeft ook wat belemmeringen. Normaliter kan je namelijk alleen testen wat er op dat moment op je scherm verschijnt. Daarom gebruiken we net als in de integration tests de scroll functionaliteit. Dat resulteert in de volgende stappen:\n",
    "* Zoek een `Scrollable` (dat is de lijst)\n",
    "* Controleer of de eerste practice is gerenderd\n",
    "* Scroll door `tester.fling()` te gebruiken (let op: je moet je scherm dan verversen door `tester.pumpAndSettle()` aan te roepen)\n",
    "* Test of de laatste practice is gerenderd\n",
    "\n",
    "Vervolgens wordt dezelfde tactiek gebruikt om te testen of er 1 actieve practice is. Maar hiervoor wordt er aan de actieve practice een speciale Key meegeven waarop gezocht kan worden. Dat wordt gebruikt om net zo lang te scrollen totdat de actieve practice in beeld is.\n",
    "\n",
    "Dit waren de Widget testen! Op dit moment zullen ze falen en dat kan je zien door\n",
    "\n",
    "> flutter test\n",
    "\n",
    "uit te voeren! Omdat er verder geen functionaliteit in de basis app hoeft te zitten kan er eindelijk aan de app gewerkt worden!\n",
    "\n",
    "PS: Ik heb van een collega geleerd om je groepen en tests op de volgende manier te benoemen:\n",
    "* De buitenste groep is de class of functie naam die je wilt testen\n",
    "  * Dan schrijf je in de test wat die moet doen, dan kan je namelijk de groep en de test lezen als 1 zin.\n",
    "    * Bijvoorbeeld: DailyPracticeApp, renders PracticesPage\n",
    "  \n",
    "  * Maar wanneer je als in de zin gaat gebruiken, dan maak je een nieuwe groep!\n",
    "    * Bijvoorbeeld, DailyPracticesApp, (als) je op de knop drukt (dan) render je een succes bericht (de 'als' en 'dan' schrijf je niet expliciet op)\n",
    "      * Groep: DailyPracticesApp\n",
    "      * Groep: je op de knop drukt\n",
    "      * Test: render je een succes bericht\n",
    "\n"
   ]
  },
  {
   "attachments": {},
   "cell_type": "markdown",
   "metadata": {},
   "source": [
    "```default\n",
    "import 'package:daily_practices_app/features/home/home.dart';\n",
    "import 'package:flutter/material.dart';\n",
    "import 'package:flutter_test/flutter_test.dart';\n",
    "import 'package:daily_practices_app/app/app.dart';\n",
    "\n",
    "void main() {\n",
    "  group('DailyPracticeApp', () {\n",
    "    testWidgets('renders PracticesPage', (tester) async {\n",
    "      await tester.pumpWidget(\n",
    "        const DailyPracticeApp(),\n",
    "      );\n",
    "\n",
    "      expect(find.byType(PracticesPage), findsOneWidget);\n",
    "    });\n",
    "\n",
    "    group('PracticesPage', () {\n",
    "      testWidgets('renders PracticesView', (tester) async {\n",
    "        await tester.pumpWidget(\n",
    "          const DailyPracticeApp(),\n",
    "        );\n",
    "\n",
    "        expect(find.byType(PracticesView), findsOneWidget);\n",
    "      });\n",
    "    });\n",
    "\n",
    "    group('PracticesView', () {\n",
    "      Widget buildSubject() {\n",
    "        return const MaterialApp(home: PracticesView());\n",
    "      }\n",
    "\n",
    "      testWidgets('renders AppBar with title text', (tester) async {\n",
    "        await tester.pumpWidget(buildSubject());\n",
    "\n",
    "        expect(find.byType(AppBar), findsOneWidget);\n",
    "        expect(\n",
    "          find.descendant(\n",
    "            of: find.byType(AppBar),\n",
    "            matching: find.text('Daily Practices'),\n",
    "          ),\n",
    "          findsOneWidget,\n",
    "        );\n",
    "      });\n",
    "\n",
    "      testWidgets('renders all listitems', (tester) async {\n",
    "        await tester.pumpWidget(buildSubject());\n",
    "\n",
    "        final listFinder = find.byType(Scrollable);\n",
    "        expect(listFinder, findsOneWidget);\n",
    "\n",
    "        // Verify that the first practice can be found\n",
    "        expect(find.text('Sleep eight hours'), findsOneWidget);\n",
    "\n",
    "        // Scroll to the bottom\n",
    "        await tester.fling(\n",
    "          listFinder,\n",
    "          const Offset(0, -500),\n",
    "          10000,\n",
    "        );\n",
    "        await tester.pumpAndSettle();\n",
    "\n",
    "        // Verify that the last practice can be found\n",
    "        expect(find.text('Deep breathing'), findsOneWidget);\n",
    "      });\n",
    "\n",
    "      testWidgets('one practice should be active', (tester) async {\n",
    "        await tester.pumpWidget(buildSubject());\n",
    "\n",
    "        final listFinder = find.byType(Scrollable);\n",
    "        expect(listFinder, findsOneWidget);\n",
    "\n",
    "        final activeItemFinder = find.byKey(const ValueKey('ActivePractice'));\n",
    "\n",
    "        // Find the active practice\n",
    "        await tester.scrollUntilVisible(\n",
    "          activeItemFinder,\n",
    "          500.0,\n",
    "          scrollable: listFinder,\n",
    "        );\n",
    "\n",
    "        expect(activeItemFinder, findsOneWidget);\n",
    "      });\n",
    "    });\n",
    "  });\n",
    "}\n",
    "```"
   ]
  },
  {
   "attachments": {},
   "cell_type": "markdown",
   "metadata": {},
   "source": [
    "## De App\n",
    "\n",
    "### main.dart\n",
    "\n",
    "Dan is nu toch echt het moment, het bouwen van de app. Omdat testen nu geschreven zijn, is het (hopelijk) vrij gemakkelijk om de \"echte\" code te schrijvenn. Volgens de testen begin je namelijk met het maken van de `DailyPracticesApp`. Dit doe je door in `main.dart` de `DailyPracticesApp` te runnen met `runApp()`. \n",
    "\n",
    "Even terug, `main.dart` en `runApp()` zijn nieuwe termen. Waarvoor dienen ze eigenlijk?\n",
    "\n",
    "Wanneer je app start moet het ergens beginnen, dat is je `main.dart` en daarin de `main()` functie. Dus wanneer je de app opent, is de `main()` functie het eerste wat uitgevoerd wordt!\n",
    "Ok, en `runApp()`? Daarvoor is het belangrijk om te weten hoe Flutter op de achtergrond een app opbouwt. De term Widget is al een aantal keer voorbij gekomen en in Flutter zijn Widgets erg belangrijk. Zo belangrijk dat Flutter alleen maar Widgets kent! En uit deze Widgets onstaat een Widget Tree (zelfs 3 afzonderlijke trees^LINK NAAR VIDEO). Het probleem is dat een boom ergens moet beginnen. Daarvoor zorgt `runApp()`. Deze functie maakt  de app die je uitvoert (in dit geval `DailyPracticeApp()` wat een Widget is) de root van de Widget Tree. Daarna kan je app zoveel Widgets toevoegen aan de Tree als je maar wilt!"
   ]
  },
  {
   "attachments": {},
   "cell_type": "markdown",
   "metadata": {},
   "source": [
    "```default\n",
    "import 'package:daily_practices_app/app/app.dart';\n",
    "import 'package:flutter/material.dart';\n",
    "\n",
    "void main() {\n",
    "  runApp(const DailyPracticeApp());\n",
    "}\n",
    "\n",
    "```"
   ]
  },
  {
   "attachments": {},
   "cell_type": "markdown",
   "metadata": {},
   "source": [
    "### app.dart\n",
    "\n",
    "Wanneer de `DailyPracticesApp` aan de Root is toegevoegd kan je de `MaterialApp`[^3] maken. Dit is een handige Widget die veel voor je doet (zie de documentatie voor verdere info). In dit geval zijn er themas mee gegeven voor de kleuren en een home page! Dat is de `PracticesPage`."
   ]
  },
  {
   "attachments": {},
   "cell_type": "markdown",
   "metadata": {},
   "source": [
    "```default\n",
    "import 'package:daily_practices_app/features/home/home.dart';\n",
    "import 'package:flutter/material.dart';\n",
    "import 'package:daily_practices_app/theme/theme.dart';\n",
    "\n",
    "class DailyPracticeApp extends StatelessWidget {\n",
    "  const DailyPracticeApp({super.key});\n",
    "\n",
    "  @override\n",
    "  Widget build(BuildContext context) {\n",
    "    return MaterialApp(\n",
    "      theme: FlutterPracticesTheme.light,\n",
    "      darkTheme: FlutterPracticesTheme.dark,\n",
    "      home: const PracticesPage(),\n",
    "    );\n",
    "  }\n",
    "}\n",
    "```"
   ]
  },
  {
   "attachments": {},
   "cell_type": "markdown",
   "metadata": {},
   "source": [
    "### home.dart\n",
    "\n",
    "In de `PracticesPage` wordt de `PracticesView` gerenderd (het is de bedoeling dat er nog andere code bijkomt). In de `PracticesView` wordt er een `Scaffold` Widget[^4] aangemaakt waardoor we een titel kunnen toevoegen (`AppBar`[^5]) en een `ListView`[^6] waarin alle practices aan een lijst toegevoegd kunnen worden. De practices zijn `Card`s[^7] en 1 van de practices is nu actief (dat wordt voor nu bepaald door een willekeurig getal; code regel 119). "
   ]
  },
  {
   "attachments": {},
   "cell_type": "markdown",
   "metadata": {},
   "source": [
    "Als je dan nu naar `main.dart` navigeert en op de play knop drukt zal je app starten. Voor voorbeelden om je app te starten, [kan je hier kijken duidelijke uitleg vinden](https://codelabs.developers.google.com/codelabs/flutter-codelab-first#3)."
   ]
  },
  {
   "attachments": {},
   "cell_type": "markdown",
   "metadata": {},
   "source": [
    "Dit was de eerste versie van de app! Alleen het is nog niet volgens de MVP, daarvoor moet de app namelijk iedere ochtend een notificatie geven. Hoe je dat kunt doen zal ik gaan omschrijven in de volgende post.\n",
    "\n",
    "Tot dan!"
   ]
  },
  {
   "attachments": {},
   "cell_type": "markdown",
   "metadata": {},
   "source": [
    "[^1]: https://cabbagemees.nl/posts/2022-10-16-Flutter-app-deel-4-de-integration-test/\n",
    "[^2]: https://docs.flutter.dev/cookbook/testing/widget/introduction\n",
    "[^3]: https://api.flutter.dev/flutter/material/MaterialApp-class.html\n",
    "[^4]: https://api.flutter.dev/flutter/material/Scaffold-class.html\n",
    "[^5]: https://api.flutter.dev/flutter/material/AppBar-class.html\n",
    "[^6]: https://api.flutter.dev/flutter/widgets/ListView-class.html\n",
    "[^7]: https://api.flutter.dev/flutter/material/Card-class.html"
   ]
  }
 ],
 "metadata": {
  "kernelspec": {
   "display_name": "venv",
   "language": "python",
   "name": "python3"
  },
  "language_info": {
   "codemirror_mode": {
    "name": "ipython",
    "version": 3
   },
   "file_extension": ".py",
   "mimetype": "text/x-python",
   "name": "python",
   "nbconvert_exporter": "python",
   "pygments_lexer": "ipython3",
   "version": "3.9.13"
  },
  "orig_nbformat": 4,
  "vscode": {
   "interpreter": {
    "hash": "5e96dc7977b545816798acbcfbbe2179ff9b80a1df2045c19cf6193f5f40622f"
   }
  }
 },
 "nbformat": 4,
 "nbformat_minor": 2
}
