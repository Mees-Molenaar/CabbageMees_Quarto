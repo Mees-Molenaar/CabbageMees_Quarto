{
 "cells": [
  {
   "cell_type": "raw",
   "metadata": {},
   "source": [
    "---\n",
    "title: \"Een Tweede Brein - Oplossen problemen Nextcloud en Obsidian\"\n",
    "subtitle: \"Los de two-two sync en snel notitie maken problemen op\"\n",
    "date: \"2023-07-05\"\n",
    "author: \"Mees Molenaar\"\n",
    "toc: true\n",
    "categories: [Raspberry Pi, Nextcloud, Obsidian, Synccthing, MacroDroid]\n",
    "page-layout: article\n",
    "image: images/bing-man-juggling.jpg\n",
    "---"
   ]
  },
  {
   "attachments": {},
   "cell_type": "markdown",
   "metadata": {},
   "source": [
    "## Inleiding\n",
    "\n",
    "Hallo hallo!\n",
    "\n",
    "[Vorige post](https://cabbagemees.nl/posts/2023-05-15-Raspberry-pi-Nextcloud/) heb ik verteld hoe je Nextcloud kunt hosten op je Raspberry Pi. In deze post wil ik jullie uitleggen hoe je Nextcloud vervolgens kunt koppelen met een Obsidian vault om deze te synchroniseren met verschillende apparaten. Ook zijn er twee (ik vind het merkwaardige) problemen waarvoor ik ook een oplossing zal bespreken.\n",
    "\n",
    "Maar eerst de Obsidian vault in Nextcloud starten!"
   ]
  },
  {
   "attachments": {},
   "cell_type": "markdown",
   "metadata": {},
   "source": [
    "## Obsidian vault in Nextcloud\n",
    "\n",
    "Allereerst is het verstandig om naast het Nextcloud Admin account, ook een los account te maken voor het dagelijkse gebruik. [Klik hier om naar de uitleg te gaan om gebruikers toe te voegen.](https://docs.nextcloud.com/server/latest/admin_manual/configuration_user/user_configuration.html)\n",
    "\n",
    "Wanneer je dat gedaan hebt, heb je zowel de Nextcloud Client als Obsidian nodig op je computer.  \n",
    "\n",
    "[Obsidian Download Pagina](https://obsidian.md/download)\n",
    "[Nextcloud Client Download Pagina](https://nextcloud.com/install/)\n",
    "\n",
    "Na de installatie log je in met de aangemaakte gebruiker via de URL die je hebt gekozen bij het [opzetten van de Nextcloud server](https://cabbagemees.nl/posts/2023-05-15-Raspberry-pi-Nextcloud/). Vervolgens kan je dan een Obsidian vault maken in de Nextcloud map (ik heb een losse map \"Obsidian\" gemaakt in de Nextcloud map en die gekozen voor de Obsidian vault).\n",
    "\n",
    "![](images/Obsidian_Map_Kiezen.png)\n",
    "\n",
    "En dat was het eigenlijk al, wanneer je nu op je laptop ook Obsidian en de Nextcloud client installeert, hoef je alleen nog maar de vault  te openen die in je Nextcloud map zit. Tada, je Obsidian vault wordt nu gesynchroniseerd tussen je laptop en desktop.\n",
    "\n",
    "Hierboven heb ik het specifiek over een laptop en een desktop, maar ik denk dat het gebruikelijker is om een laptop/desktop te willen synchroniseren met een mobiel apparaat (telefoon of tablet). Dat wil ik namelijk ook! Helaas komen we nu in aanraking met merkwaardig probleem nummer één."
   ]
  },
  {
   "attachments": {},
   "cell_type": "markdown",
   "metadata": {},
   "source": [
    "## Merkwaardig probleem: Mobiele Nextcloud Client Synchroniseert niet twee kanten op\n",
    "\n",
    "Het probleem is dat de mobiele Nextcloud client, geen synchronisatie heeft die twee kanten op werkt (two-way sync). Hierdoor worden aanpassingen in bestaande bestanden niet opnieuw geüpload naar Nextcloud, waardoor je andere apparaten die updates niet hebben. Ik vind het vervelend dat de mobiele client dat niet kan (hopelijk gaat iemand het ooit maken er is een bounty voor: [https://app.bountysource.com/issues/35153835-allow-2-way-sync](https://app.bountysource.com/issues/35153835-allow-2-way-sync)), maar gelukkig is er wel een manier om dit probleem op te lossen.\n",
    "\n",
    "De oplossing is: nog een andere applicatie, namelijk [Syncthing](https://syncthing.net/). Met Syncthing kan je verschillende mappen synchroniseren met apparaten die op hetzelfde netwerk zitten. Dit lost bovenstaand probleem op door de map waar je Obsidian vault in zit op je mobiel, te synchroniseren naar je computer. De computer synchroniseert dan wel naar Nextcloud via de Nextcloud Client, omdat die wel two-way sync ondersteunt.\n",
    "\n",
    "Allereerst installeer je Syncthing op zowel je laptop als je mobiel (via de Playstore of App Store) \n",
    "\n",
    "[Syncthing Download Pagina](https://syncthing.net/downloads/)(Ik heb zelf de Base Syncthing gedownload. De uitleg in deze post gaat dus ook over die versie van Syncthing)\n",
    "[Synchthing Play Store](https://play.google.com/store/apps/details?id=com.nutomic.syncthingandroid&hl=en_US)\n",
    "\n",
    "Na de installatie en het starten van Syncthing navigeer je naar http://localhost:8384/ om naar de grafische interface (GUI) van Syncthing te gaan (dat ziet er uit zoals hieronder).\n",
    "\n",
    "![](images/Pasted%20image%2020230617083456.png)\n",
    "\n",
    "Als eerste moet je op je laptop je mobiel als extern apparaat (remote device) toevoegen. En vervolgens voeg je, op je mobiel, de laptop toe als extern apparaat. Alleen dan is er voor beide apparaten toestemming om met elkaar te synchroniseren. Dit doe je voor je laptop door op “Extern Apparaat Toevoegen” (“Add Remote Device”) in de GUI te klikken en dan het Apparaat ID (van je mobiel, deze is te vinden door de mobiele app te openen, dan linksboven het menu te openen en daar op Show Device ID te klikken) en de naam van het Apparaat in te vullen (let wel op dat beide apparaten op hetzelfde netwerk zitten). Nadat je dat hebt gedaan zal het toegevoegd apparaat onder Externe Apparaten (Remote Devices verschijnen).\n",
    "\n",
    "Voor de mobiele app werkt het nagenoeg hetzelfde.\n",
    "1. Open de app\n",
    "2. Navigeer naar devices\n",
    "3. Klik op het plusje (rechtsboven)\n",
    "4. Vul hier het Device ID (van je laptop, deze is te vinden door in de GUI op “Acties” (“Actions”) te klikken en dan op “ID weergeven” (“Show ID”)) en “Name” in te vullen.\n",
    "\n",
    "Nu kunnen je laptop en mobiel met elkaar synchroniseren, alleen moet je nog vertellen welke map(pen) ze met elkaar synchroniseren.\n",
    "\n",
    "Je begint op je laptop (waar ook Nextcloud opstaat) en in de GUI klik je op “Map Toevoegen” (“Add Folder”). Dan vul je de map waar je Obsidian vault staat in in het “MapLocatie” (“Folder Location”) veld. Vervolgens ga je naar de “Delen” (“Share”) tab en daar vink je je mobiel aan. Tot slot klik je op “Opslaan” (“Save”). \n",
    "\n",
    "Dan moet je op je mobiel dezelfde folder toevoegen.\n",
    "1. Open de App\n",
    "2. Navigeer naar Folders\n",
    "3. Klik op het plusje (rechtsboven)\n",
    "4. **Vul bij Folder Label hetzelfde label in als die in de GUI op je laptop** \n",
    "5. Vink aan met welk apparaat je wilt delen (de naam van je Laptop)\n",
    "6. Kies een \"Directory\" waar je de gedeelde data wilt opslaan (onthoudt deze)\n",
    "\n",
    "Wanneer je deze stappen hebt gevolgd, dan kan je ieder moment dat je mobiel en computer op hetzelfde netwerk zitten,  de folders synchroniseren. Je hoeft alleen Syncthing op te starten.\n",
    "\n",
    "Nu kan je op je mobiel de [Obsidian App](https://play.google.com/store/apps/details?id=md.obsidian&hl=en_US) downloaden en de Obsidian Vault openen die je in bovenstaande folder (stap 6) hebt gekozen om te synchroniseren."
   ]
  },
  {
   "attachments": {},
   "cell_type": "markdown",
   "metadata": {},
   "source": [
    "## Merkwaardig probleem: Je kunt niet snel een notitie maken met Obsidian mobiel\n",
    "\n",
    "Dan nu naar het tweede merkwaardige probleem, namelijk dat je eerst je telefoon ontgrendelt, dan de Obsidian app moet openen, links boven op het krant (ik weet eigenlijk niet goed hoe je zo een icoontje noemt, maar krant lijkt er het meeste op) icoontje klikken en dan links onder op het papier en potlood icoontje, je typt je notitie en als laatste sluit je de app. Dat zijn te veel handelingen om even snel een notitie te maken van wat je hoort, leest, tegenkomt of herinnert. Jammer genoeg kan je ook geen Obsidian widget instellen. Daarom moet je zelf een (soort van) widget maken.\n",
    "\n",
    "Hiervoor gebruik je een andere app, namelijk [Macrodroid](https://play.google.com/store/apps/details?id=com.arlosoft.macrodroid&hl=nl&gl=US&pli=1). Macrodroid is een app waarmee je door het klikken van één knop verschillende acties kunt doen, dat heet een macro. Of je kan door één klik een input schermpje openen waarin je een notitie kan typen en wanneer je op \"ok\" drukt die automatisch toevoegen aan je Obsidian notitie van de dag. Een extraatje is dat je deze knop op je startscherm kunt zetten.  Waardoor je alleen nog deze stappen hoeft te doen:  telefoon ontgrendelen, op de gemaakte widget klikken, notitie typen en dan \"ok\" je notitie is opgeslagen. Dat maakt opkomende ideeën zoveel makkelijker om op te slaan.\n",
    "\n",
    "Hieronder staat beschreven hoe je dat zelf kunt instellen op je telefoon.\n",
    "\n",
    "1. Open MacroDroid en klik op \"Add Macro\"\n",
    "2. Geef de macro een naam. Bijvoorbeeld: Snel Notitie Toevoegen\n",
    "3. Stel een trigger in en kies \"Shortcut Launched\" (zie afbeelding hieronder)\n",
    "![](images/Pasted%20image%2020230630142828.png)\n",
    "4. Stel een actie in en kies \"Set Variable\" en stel deze in (zie afbeeldingen hieronder)\n",
    "![](images/Pasted%20image%2020230630143042.png)\n",
    "\n",
    "  * Voer \"input\" in als variable name\n",
    "  * Kies \"String\" als variable type\n",
    "  * Vink Create variable now aan\n",
    "  * Klik op \"OK\"\n",
    "![](images/Pasted%20image%2020230630143105.png)\n",
    "\n",
    "  * Vink [User Prompt] aan\n",
    "  * Klik op \"OK\"\n",
    "\n",
    "![](images/Pasted%20image%2020230630143154.png)\n",
    "  * Vul een Title naar keuze in\n",
    "  * Vink de volgende vakjes aan: \"Allow cancel\", \"Cancel prevents subsequent actions running\" en \"Dark mode (als je dat wilt)\"\n",
    "  * Klik op \"OK\"\n",
    "\n",
    " ![](Pasted%20image%2020230630143524.png)\n",
    "\n",
    "5. Voeg nog een actie toe, \"Write to file\" en stel in (zie afbeeldingen hieronder)\n",
    "\n",
    "![](Pasted%20image%2020230630143729.png)\n",
    "\n",
    "* Bij \"Select Folder\" kies je je Obsidian folder (ik heb in de Obsidian Vault een folder gemaakt genaamd Inbox. Hierin worden alle notities opgeslagen en die verwerk ik dan 1x in de week)\n",
    "* Vul {year}-{month_digit}-{dayofmonth}.md in bij \"filename\". De namen tussen de curly brackets ({}) zijn variabelen en die worden ingevuld door MacroDroid. Het resultaat daarvan is bijvoorbeeld 2023-06-30.md\n",
    "* Vul \\n- [ ] {lv=input} in bij \"Enter Text\". Deze regel zorgt ervoor dat er in je nieuwe notitie een nieuwe regel wordt gemaakt die begint met een checkbox. Achter de checkbox komt dan je notitie.\n",
    "* Kies \"Append to file\" zodat je een nieuwe notitie toevoeg aan de bestaande file en die niet overschrijft waardoor je je oude notities van die dag behoudt.\n",
    "\n",
    "![](images/Pasted%20image%2020230630143759.png)\n",
    "\n",
    "6. Je macro ziet er nu zo uit\n",
    "![](images/Pasted%20image%2020230630144340.png)\n",
    "7. Sla de macro op en nu kan je via een Widget de Macro aan je scherm toevoegen.\n",
    "  * Voeg een Widget toe\n",
    "  * Kies \"MacroDroid Custom\"\n",
    "  * Selecteer de gemaakte Macro"
   ]
  },
  {
   "attachments": {},
   "cell_type": "markdown",
   "metadata": {},
   "source": [
    "Tada, nu heb je een makkelijke manier om notities toe te voegen aan Obsidian!\n",
    "\n",
    "Met deze twee extra applicaties is het dus mogelijk om de twee tekortkomingen van Nextcloud en Obsidian op te lossen. Ik hoop zelf dat er in de toekomst updates van beide applicaties komen zodat je niet nog twee extra apps nodig hebt. Maar tot die tijd is dit een fantastische oplossing.\n",
    "\n",
    "Veel plezier en tot de volgende keer :)\n",
    "\n",
    "Mees"
   ]
  },
  {
   "attachments": {},
   "cell_type": "markdown",
   "metadata": {},
   "source": [
    "[^1]: <https://cabbagemees.nl/posts/2022-10-16-Flutter-app-deel-4-de-integration-test/>\n",
    "[^2]: <https://docs.flutter.dev/cookbook/testing/widget/introduction>\n",
    "[^3]: <https://api.flutter.dev/flutter/material/MaterialApp-class.html>\n",
    "[^4]: <https://api.flutter.dev/flutter/material/Scaffold-class.html>\n",
    "[^5]: <https://api.flutter.dev/flutter/material/AppBar-class.html>\n",
    "[^6]: <https://api.flutter.dev/flutter/widgets/ListView-class.html>\n",
    "[^7]: <https://api.flutter.dev/flutter/material/Card-class.html>"
   ]
  }
 ],
 "metadata": {
  "kernelspec": {
   "display_name": "venv",
   "language": "python",
   "name": "python3"
  },
  "language_info": {
   "codemirror_mode": {
    "name": "ipython",
    "version": 3
   },
   "file_extension": ".py",
   "mimetype": "text/x-python",
   "name": "python",
   "nbconvert_exporter": "python",
   "pygments_lexer": "ipython3",
   "version": "3.9.17"
  },
  "orig_nbformat": 4,
  "vscode": {
   "interpreter": {
    "hash": "5e96dc7977b545816798acbcfbbe2179ff9b80a1df2045c19cf6193f5f40622f"
   }
  }
 },
 "nbformat": 4,
 "nbformat_minor": 2
}
