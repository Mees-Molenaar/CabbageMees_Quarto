{
 "cells": [
  {
   "cell_type": "raw",
   "id": "d1673c9e",
   "metadata": {},
   "source": [
    "---\n",
    "title: \"Kwaadaardige moedervlekken herkennen met artificiële intelligentie\"\n",
    "subtitle: \"Een voorbeeld van een AI project dat een biologisch probleem kan oplossen\"\n",
    "date: \"2021-06-19\"\n",
    "author: \"Mees Molenaar\"\n",
    "toc: true\n",
    "categories: [Projecten, CNN, Biologie]\n",
    "page-layout: article\n",
    "---"
   ]
  },
  {
   "cell_type": "code",
   "execution_count": 2,
   "id": "fa5ed788-bf4f-441a-9590-edd9991e7b3d",
   "metadata": {},
   "outputs": [],
   "source": [
    "#|echo: false\n",
    "import pandas as pd\n",
    "import numpy as np\n",
    "pd.set_option('display.max_colwidth', -1)"
   ]
  },
  {
   "cell_type": "markdown",
   "id": "ca129bee-b3e3-4972-94df-83953fac04f4",
   "metadata": {},
   "source": [
    "Hoi hoi,\n",
    "\n",
    "Vandaag wil ik een voorbeeld delen van Artificiële Intelligentie (AI) in de biologie. Maar voordat ik begin, een kleine waarschuwing. In deze post komen mogelijk onbekende en moeilijke termen voor. Wanneer ik ze allemaal in deze post uit ga leggen wordt de post ietwat lang. Daarom heb ik soms een korte uitleg gegeven ,maar op andere momenten niet ,want het idee is om deze termen uitvoerig te bespreken in de volgende posts. Dat gezegd hebbende, deze post gaat over mijn eerste project dat ik gemaakt heb, namelijk een model (eigenlijk een soort van computerprogramma) dat kan voorspellen of een moedervlek goed- of kwaadaardig is [^1]. Hiermee was ik begonnen ,omdat de (gratis!) online cursus van Fastai [^2] aanbeveelt om zo snel mogelijk te experimenteren. Zo kan je spelenderwijs leren en later, mocht je het interessant vinden, dieper in de theorie duiken."
   ]
  },
  {
   "cell_type": "markdown",
   "id": "de67f29b-607a-4d6f-968b-d97c3ba4d8f8",
   "metadata": {},
   "source": [
    "Om het nog makkelijker te maken en sneller te kunnen beginnen met experimenteren heeft Fastai een eigen Python library (een term dat gebruikt wordt als: een uitbreiding van de programmeertaal Python). Met deze library, kun je met relatief weinig programmeerkennis een model trainen dat een voorspelling kan maken van, ja van wat niet eigenlijk. Dit kan zolang je maar genoeg voorbeelden (je data) hebt. Gelukkig hoef je niet altijd zelf je data te verzamelen, maar zijn er mensen die data gratis met de wereld delen. Tschandl et al.[^3] hebben plaatjes van moedervlekken bij elkaar gezocht en gelabeld (een label is de waarde die de data, in dit geval een foto, heeft). Specialisten op het gebied van moedervlekken hebben iedere foto beoordeeld als goed- of kwaadaardige moedervlek. Deze stap is erg belangrijk ,want zonder gelabelde data kun je eigenlijk geen AI model maken dat een nuttige voorspelling kan doen (met uitzondering van technieken die ongelabelde data gebruiken, maar dat is voor een volgende keer). En vaak geldt: des te meer data ,des te beter."
   ]
  },
  {
   "cell_type": "markdown",
   "id": "d2db37fb-40c6-4943-8101-ac70544f507a",
   "metadata": {},
   "source": [
    "Nu we onze data hebben ,kunnen we bijna beginnen om een AI model te trainen. We hebben namelijk ook data nodig om ons model te evalueren. Hiervoor gebruik je data die niet is gebruikt tijdens het trainen. In de praktijk splits je daarom je data vaak in twee groepen. Een groep die je gebruikt om je model te trainen en een groep om te evalueren. Door deze splitsing evalueer je het getrainde model met data dat je model nog niet gezien heeft tijdens de training. Dat is erg belangrijk, want uiteindelijk wordt je model ook op deze manier gebruikt! Een foto die een gebruiker instuurt heeft het model nog nooit gezien en op deze foto's wil je een accurate voorspelling doen."
   ]
  },
  {
   "cell_type": "markdown",
   "id": "36df48c5-4f72-4fbe-999f-2ff68617bd35",
   "metadata": {},
   "source": [
    "Ok, nu kunnen we dan echt beginnen met het trainen van het model. Voor foto's en plaatjes wordt (vaak) een speciale vorm model gebruikt, namelijk een convolutioneel neuraal netwerk (CNN; nog een term die ik later verder ga uitleggen, voor nu kan je een convolutie zien als een speciale rekensom). Zo 'n CNN gaan wij nu ook gebruiken (en de Fastai library maakt het ons erg gemakkelijk om dit te doen, maar de details bespreek ik weer later)."
   ]
  },
  {
   "cell_type": "markdown",
   "id": "f9e27f90-c236-4712-a9de-4ce8b809a475",
   "metadata": {},
   "source": [
    "Tabel 1: Het trainen van een model. Epochs staat voor hoeveel keer je door je data heen gaat om je model te trainen. De train_loss is de loss die het model heeft op de trainingsdata en de valid_loss van je evaluatie data (hoe de loss wordt berekend ga ik later bespreken, de loss is berekend door het verschil tussen de voorspelde waarde door het model en de echte (gelabelde) waarde in een formule te stoppen). Als laatste bevat de tabel de tijd die 1 epoch duurt in minuten.\n",
    "\n",
    "![](images/Tabel_error_rate_blog_moedervlekken.JPG)"
   ]
  },
  {
   "cell_type": "markdown",
   "id": "cf5705a5-ca67-498d-a241-7badc362667f",
   "metadata": {},
   "source": [
    "In onderstaande tabel zie je dat we (na maar een paar minuten trainen) een accuuraatheid van maarliefst 95% hebben (Tabel 1; De error rate is lager dan 0.05, wat betekent dat de accuraatheid groter is dan (1 - 0.05) * 100%). Dat is de kracht van transfer learning en trainen op een grafische kaart (GPU). Een wezenlijk probleem is echter dat de accuraatheid verbonden is aan of je model een soortgelijke moedervlek heeft gezien tijdens de training. Hoewel we dat probleem zo goed mogelijk proberen op te lossen door je data te splitsen, is het nog steeds een probleem wanneer een moedervlek er compleet anders uit ziet, dan de moedervlekken waarop je het model hebt getraind. Dat is een reden waarom deze modellen in de praktijk nog geen specialisten vervangen en waarom je dus met een gek uitziende moedervlek altijd naar een specialist moet gaan. Maar deze modellen kunnen wel als hulpmiddel dienen voor deze specialisten! Dit voorbeeld laat dus de kracht, maar zeker ook een grote uitdaging van AI zien. "
   ]
  },
  {
   "cell_type": "markdown",
   "id": "2cef52d7-b975-40a5-8cad-e0b22f6aabb7",
   "metadata": {},
   "source": [
    "Er zijn veel voorbeelden waar soortgelijke technieken worden gebruikt (zie tabel 2). De code van dit project kan je vinden op [Github](https://github.com/Mees-Molenaar/melanoma-classifier) en je kunt het getrainde model ook testen met een foto van een eigen moedervlek of eentje van het internet ([moedervlek herkenner](https://melanoma-classifier.herokuapp.com/)). "
   ]
  },
  {
   "cell_type": "markdown",
   "id": "f5ce6f86-5c87-4c7e-83e6-d8c266cd00d8",
   "metadata": {},
   "source": [
    "Tabel 2: Voorbeelden van andere projecten waarin biologische problemen worden opgelost met afbeeldingen."
   ]
  },
  {
   "cell_type": "code",
   "execution_count": 3,
   "id": "1c615ddf-568d-4830-b82a-c3e51bfa6e0f",
   "metadata": {},
   "outputs": [
    {
     "data": {
      "text/html": [
       "<div>\n",
       "<style scoped>\n",
       "    .dataframe tbody tr th:only-of-type {\n",
       "        vertical-align: middle;\n",
       "    }\n",
       "\n",
       "    .dataframe tbody tr th {\n",
       "        vertical-align: top;\n",
       "    }\n",
       "\n",
       "    .dataframe thead th {\n",
       "        text-align: right;\n",
       "    }\n",
       "</style>\n",
       "<table border=\"1\" class=\"dataframe\">\n",
       "  <thead>\n",
       "    <tr style=\"text-align: right;\">\n",
       "      <th></th>\n",
       "      <th>Soort Scan</th>\n",
       "      <th>Functie</th>\n",
       "      <th>Artikel</th>\n",
       "    </tr>\n",
       "  </thead>\n",
       "  <tbody>\n",
       "    <tr>\n",
       "      <th>0</th>\n",
       "      <td>MRI</td>\n",
       "      <td>Hersen Tumoren</td>\n",
       "      <td>Ali Işın, Cem Direkoğlu, Melike Şah, Review of MRI-based Brain Tumor Image Segmentation Using Deep Learning Methods, Procedia Computer Science, Volume 102,2016,Pages 317-324,ISSN 1877-0509,https://doi.org/10.1016/j.procs.2016.09.407.</td>\n",
       "    </tr>\n",
       "    <tr>\n",
       "      <th>1</th>\n",
       "      <td>H&amp;E gekleurde cellen</td>\n",
       "      <td>Infiltrerende lymfocyten in tumoren</td>\n",
       "      <td>Spatial Organization and Molecular Correlation of Tumor-Infiltrating Lymphocytes Using Deep Learning on Pathology Images, Cell Reports, Volume 23, Issue 1, Pages 181-193.e7, ISSN 2211-1247, https://doi.org/10.1016/j.celrep.2018.03.086.</td>\n",
       "    </tr>\n",
       "    <tr>\n",
       "      <th>2</th>\n",
       "      <td>X-ray</td>\n",
       "      <td>Borstkas aandoeningen</td>\n",
       "      <td>Han Liu, Lei Wang, Yandong Nan, Faguang Jin, Qi Wang, Jiantao Pu, SDFN: Segmentation-based deep fusion network for thoracic disease classification in chest X-ray images, Computerized Medical Imaging and Graphics, Volume 75, Pages 66-73, ISSN 0895-6111, https://doi.org/10.1016/j.compmedimag.2019.05.005.</td>\n",
       "    </tr>\n",
       "  </tbody>\n",
       "</table>\n",
       "</div>"
      ],
      "text/plain": [
       "             Soort Scan                              Functie  \\\n",
       "0  MRI                   Hersen Tumoren                        \n",
       "1  H&E gekleurde cellen  Infiltrerende lymfocyten in tumoren   \n",
       "2  X-ray                 Borstkas aandoeningen                 \n",
       "\n",
       "                                                                                                                                                                                                                                                                                                           Artikel  \n",
       "0  Ali Işın, Cem Direkoğlu, Melike Şah, Review of MRI-based Brain Tumor Image Segmentation Using Deep Learning Methods, Procedia Computer Science, Volume 102,2016,Pages 317-324,ISSN 1877-0509,https://doi.org/10.1016/j.procs.2016.09.407.                                                                        \n",
       "1  Spatial Organization and Molecular Correlation of Tumor-Infiltrating Lymphocytes Using Deep Learning on Pathology Images, Cell Reports, Volume 23, Issue 1, Pages 181-193.e7, ISSN 2211-1247, https://doi.org/10.1016/j.celrep.2018.03.086.                                                                      \n",
       "2  Han Liu, Lei Wang, Yandong Nan, Faguang Jin, Qi Wang, Jiantao Pu, SDFN: Segmentation-based deep fusion network for thoracic disease classification in chest X-ray images, Computerized Medical Imaging and Graphics, Volume 75, Pages 66-73, ISSN 0895-6111, https://doi.org/10.1016/j.compmedimag.2019.05.005.  "
      ]
     },
     "execution_count": 3,
     "metadata": {},
     "output_type": "execute_result"
    }
   ],
   "source": [
    "#|echo: false\n",
    "soorten_scan = ['MRI', 'H&E gekleurde cellen', 'X-ray']\n",
    "functies = ['Hersen Tumoren', 'Infiltrerende lymfocyten in tumoren', 'Borstkas aandoeningen']\n",
    "artikelen = ['Ali Işın, Cem Direkoğlu, Melike Şah, Review of MRI-based Brain Tumor Image Segmentation Using Deep Learning Methods, Procedia Computer Science, Volume 102,2016,Pages 317-324,ISSN 1877-0509,https://doi.org/10.1016/j.procs.2016.09.407.',\n",
    "            'Spatial Organization and Molecular Correlation of Tumor-Infiltrating Lymphocytes Using Deep Learning on Pathology Images, Cell Reports, Volume 23, Issue 1, Pages 181-193.e7, ISSN 2211-1247, https://doi.org/10.1016/j.celrep.2018.03.086.',\n",
    "            'Han Liu, Lei Wang, Yandong Nan, Faguang Jin, Qi Wang, Jiantao Pu, SDFN: Segmentation-based deep fusion network for thoracic disease classification in chest X-ray images, Computerized Medical Imaging and Graphics, Volume 75, Pages 66-73, ISSN 0895-6111, https://doi.org/10.1016/j.compmedimag.2019.05.005.']\n",
    "\n",
    "data = np.array(list(zip(soorten_scan, functies, artikelen)))\n",
    "\n",
    "df = pd.DataFrame(data=data, columns=['Soort Scan', 'Functie', 'Artikel'])\n",
    "df.head()"
   ]
  },
  {
   "cell_type": "markdown",
   "id": "f042ea3e-3664-4293-b9c6-8a73d912066e",
   "metadata": {},
   "source": [
    "We zijn weer aan het einde gekomen en ik kan me goed voorstellen dat het duizelt van de moeilijke termen. Ik ga proberen om die termen in toekomstige berichten zo duidelijk mogelijk uit te leggen. Mochten er vragen of opmerkingen zijn, dan kunnen jullie die hieronder plaatsen! Bedankt voor het lezen en tot de volgende keer! (Smeer je goed in tegen de zon!!)."
   ]
  },
  {
   "cell_type": "markdown",
   "id": "2dce0246-af4e-4c6d-9d83-6153e004b6ec",
   "metadata": {},
   "source": [
    "[^1]: Dit soort modellen zijn geen vervanging van een specialist. Wanneer je een rare (moeder)vlek hebt, raadpleeg altijd een dokter.\n",
    "\n",
    "[^2]: [Fastai website](https://www.fast.ai/)\n",
    "[^3]: Tschandl, Philipp, 2018, The HAM10000 dataset, a large collection of multi-source dermatoscopic images of common pigmented skin lesions, https://doi.org/10.7910/DVN/DBW86T, Harvard Dataverse, V3"
   ]
  }
 ],
 "metadata": {
  "kernelspec": {
   "display_name": "Python 3.9.9 64-bit",
   "language": "python",
   "name": "python3"
  },
  "language_info": {
   "codemirror_mode": {
    "name": "ipython",
    "version": 3
   },
   "file_extension": ".py",
   "mimetype": "text/x-python",
   "name": "python",
   "nbconvert_exporter": "python",
   "pygments_lexer": "ipython3",
   "version": "3.9.9"
  },
  "vscode": {
   "interpreter": {
    "hash": "dd300d7e01d5abe72068fde2e71abd784427bf0a53f01ec55a1757e7e42c23eb"
   }
  }
 },
 "nbformat": 4,
 "nbformat_minor": 5
}
