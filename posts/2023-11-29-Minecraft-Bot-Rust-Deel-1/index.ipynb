{
 "cells": [
  {
   "cell_type": "raw",
   "metadata": {},
   "source": [
    "---\n",
    "title: \"Een Minecraft Discord Bot in Rust - Deel 1 - Een Nieuwe Programmeertaal Leren met ChatGPT\"\n",
    "subtitle: \"Rust tools voor een Discord Bot en ChatGPT trucjes.\"\n",
    "date: \"2023-11-29\"\n",
    "author: \"Mees Molenaar\"\n",
    "toc: true\n",
    "categories: [Rust, Discord Bot, ChatGPT]\n",
    "page-layout: article\n",
    "image: images/rust-discord.jpg\n",
    "---"
   ]
  },
  {
   "attachments": {},
   "cell_type": "markdown",
   "metadata": {},
   "source": [
    "## Inleiding\n",
    "\n",
    "Al meerdere keren dit jaar heb ik gehoord dat [Rust](https://www.rust-lang.org) een interessante programmeertaal is. Dat begon bij het advies van een oud collega, tot het horen van Polars bij Xomnia en verschillende video's van [ThePrimeagen](https://www.youtube.com/@ThePrimeagen/videos) . Daardoor begon het bij mij te kriebelen en wilde ik een klein project beginnen om kennis te maken met Rust."
   ]
  },
  {
   "attachments": {},
   "cell_type": "markdown",
   "metadata": {},
   "source": [
    "## Waarom Een Minecraft Discord Bot\n",
    "\n",
    "Op zoek naar kleine beginnersprojecten vond ik dat het maken van een Discord bot een goed idee kan zijn. Daarnaast heeft een vriend van mij een YouTube kanaal [MeneerKB](https://www.youtube.com/@MeneerKB)  met een Discord server voor zijn community. Hij maakt Minecraft video's en op zijn server heb ik advies gevraagd naar een idee voor wat handig is om met de Minecraft Discord bot te gaan doen. Zij kwamen met het advies om een bot te maken die je naar het recept van een item kunt vragen en die een overzichtelijk tabel met de ingrediënten terug geeft. Voordat we daaraan beginnen (dat zal in de volgende post zijn), wil ik eerst nog terugkomen waarom Rust een interessante taal is en hoe je ChatGPT kunt gebruiken om een nieuwe taal te leren."
   ]
  },
  {
   "attachments": {},
   "cell_type": "markdown",
   "metadata": {},
   "source": [
    "## Waarom Rust\n",
    "\n",
    "Zoals iedere programmeertaal heeft Rust zijn voor- en nadelen. Dit is mijn persoonlijke lijst met belangrijke voor- en nadelen, maar wees ervan bewust dat er vast nog andere voor- en nadelen zijn. "
   ]
  },
  {
   "cell_type": "markdown",
   "metadata": {},
   "source": [
    "### Voordelen van Rust\n",
    "\n",
    "#### Rust is snel\n",
    "\n",
    "Rust is een programmeertaal die dichter bij de machine taal (de taal die computer hardware spreekt) ligt dan bijvoorbeeld Python. \n",
    "\n",
    "> Dit wordt vaak een \"lagere\" taal genoemd, ten opzichte van Python wat dan een \"hogere\" taal is.\n",
    "\n",
    "Hierdoor kan je je code specifiek voor stukken hardware maken zonder dat er functionaliteiten zijn ingebouwd die je niet nodig hebt. Omdat deze functionaliteiten niet zijn ingebouwd moet je meer zelf doen, maar daardoor mis je onnodige functionaliteiten waardoor je programma sneller is. Hierdoor kan je bijvoorbeeld efficiënter het geheugen beheren dat je programma gebruikt. Maar wees je er bewust van dat het daardoor ook makkelijker is om een bug in je programma te introduceren. Het mooie aan Rust is dat ze daar een oplossing voor hebben gevonden."
   ]
  },
  {
   "cell_type": "markdown",
   "metadata": {},
   "source": [
    "#### Rust heeft de Borrow Checker\n",
    "\n",
    "De [Borrow Checker](https://doc.rust-lang.org/1.8.0/book/references-and-borrowing.html) is een tool die onderdeel is van de Rust compiler. Deze tool doet tijdens het compilen een controle van je code, waarin het controleert of je het geheugen van je programma correct beheert. Hiermee zorgt Rust ervoor dat je zelf het geheugen kunt beheren, en dus snellere programma's maakt, terwijl je van fouten wordt behoed en geen onveilige situaties creëert zoals een Buffer Overflow."
   ]
  },
  {
   "cell_type": "markdown",
   "metadata": {},
   "source": [
    "### Nadelen van Rust\n",
    "\n",
    "De uitdrukking, ieder voordeel heeft zijn nadeel, heeft ook zijn betrekking op Rust en eigenlijk alle programmeertalen (daarom zullen er vast honderden programmeertalen zijn), maar dit zijn de door mij gekozen belangrijkste nadelen.\n",
    "\n",
    "#### Rust is moeilijk\n",
    "\n",
    "Omdat Rust een \"lagere\" taal is, en je dus specifieke instructies kunt geven ten opzichte van bijvoorbeeld Python, is het ingewikkelder. Je moet namelijk zelf meer en beter begrijpen wat er met je code gebeurt, omdat er maar weinig vangnetten zijn ingebouwd. En zelfs met de Borrow Checker als vangnet is het nog lastig. Bijvoorbeeld: met het beheren van geheugen komen er (nieuwe) termen zoals pointers, heap en stack om de hoek kijken. Zeker als je vooral bekend bent met \"lagere\" programmeertalen zoals Python, hoef je je over die termen normaliter geen zorgen te maken, want dat doet Python voor je.\n",
    "\n",
    "#### Rust is minder geschikt voor prototypes\n",
    "\n",
    "Vaak is het belangrijk om snel te bouwen, omdat je dan snel feedback kunt krijgen op je product. Daarom wordt er vaak gezegd om een Minimal Viable Product (MVP) te bouwen. Maar omdat Rust een \"lagere\" taal is, komt er meer bij kijken bij het maken van een product dan een \"hogere\" taal. Gelukkig zijn er al aardig wat Crates (equivalent van packages) die je veel werk uit handen nemen, maar ik denk nog steeds dat je langer bezig zult zijn met Rust dan bijvoorbeeld Python. \n",
    "\n",
    "Mijn advies hier: bouw een prototype in je favoriete taal. En merk je dat je meer efficiëntie nodig hebt, schrijf die delen in Rust.\n",
    "\n",
    "#### Rust is nieuw\n",
    "\n",
    "Hoewel Rust er alweer een tijdje is (8 jaar sinds de release) is het nieuwer ten opzichte van Python en C++. Hierdoor zijn er minder libraries (Crates) en sommige features zijn nog niet ontwikkeld (misschien zijn die ook helemaal niet nodig, tot dusver miste ik nog niets). Daarnaast zijn er door de moeilijkheid en nieuwigheid ook minder mensen die Rust kunnen. Daarom denk ik dat Rust voor grotere organisaties (die al problemen hebben met het werven van goede developers) nog geen goede keuze is."
   ]
  },
  {
   "cell_type": "markdown",
   "metadata": {},
   "source": [
    "### Persoonlijke Redenen Om In Rust Te Programmeren\n",
    "\n",
    "Bovenstaande voordelen en nadelen gelden in het algemeen, maar uiteindelijk draait het erom wat je zelf belangrijk vindt. In mijn geval wil ik juist die moeilijke termen zoals pointers, de heap en de stack leren. En ik denk dat in de wereld van Big Data, efficiëntie zeer belangrijk is. Niet alleen omdat het dan sneller is, maar ook omdat het dan minder kost en minder computerkracht en elektriciteit verbruikt. En deze zaken wil ik dan het liefste leren en toepassen in een taal die gericht is op de toekomst en ik denk dat Rust dat is."
   ]
  },
  {
   "cell_type": "markdown",
   "metadata": {},
   "source": [
    "## Hoe Maak Je Een Discord Bot In Rust\n",
    "\n",
    "### De Rust Tools\n",
    "\n",
    "Hoewel deze post niet volledig gewijd is aan het maken van een Discord bot en de volgende post in meer detail hierop in zal gaan. Wil ik jullie niet onthouden van de twee tools die ik heb gebruikt voor de bot. De twee belangrijkste Crates zijn [Serenity](https://github.com/serenity-rs/serenity) en [Shuttle](https://github.com/shuttle-hq/shuttle) .\n",
    "\n",
    "#### Serenity\n",
    "\n",
    "Ik denk dat de README.md het het korste uitlegt met deze zin\n",
    "\n",
    "> Serenity is a Rust library for the Discord API\n",
    "\n",
    "Een beetje kort door de bocht betekent dit dat je deze package kunt gebruiken om met Discord te communiceren en dus ook met je Discord Bot. Deze package maakt het dus makkelijker om een Discord Bot te maken.\n",
    "\n",
    "#### Shuttle\n",
    "\n",
    "Met Shuttle kan je heel makkelijk Rust apps deployen (online zetten voor de wereld), maar het doet nog meer dan dat: het maakt het ook makkelijker om een applicatie lokaal te draaien en voegt ook een handige manier om met [Secrets](https://docs.shuttle.rs/resources/shuttle-secrets) te werken toe. \n"
   ]
  },
  {
   "cell_type": "markdown",
   "metadata": {},
   "source": [
    "### ChatGPT Gebruiken om Rust te Leren\n",
    "\n",
    "Zoals eerder vermeld: Rust is voor mij een nieuwe taal en ik weet veel eigenschappen van de taal nog niet. Maar door wat programmeer-ervaring weet ik vaak wel hoe en wat ik kan en wil bereiken met een stukje code. De antwoorden van jouw eigen hoe en wat vragen zijn perfecte startpunten om ChatGPT code te laten maken. \n",
    "\n",
    "Ik begin vaak met ChatGPT een generieke vraag te stellen, dit doe ik zodat ChatGPT beter de context begrijpt waar de vraag over gaat.\n",
    "\n",
    "Bijvoorbeeld:\n",
    "\n",
    "```\n",
    "Hi ChatGPT, I am a Rust beginner and don't know the idiomatic way to program in Rust. Can you help me write that code?\n",
    "```"
   ]
  },
  {
   "cell_type": "markdown",
   "metadata": {},
   "source": [
    "ChatGPT geeft antwoord dat het natuurlijk kan helpen, soms met wat extra informatie. Vervolgens stel ik de vraag die ik beantwoord wil hebben.\n",
    "\n",
    "Bijvoorbeeld:\n",
    "\n",
    "```\n",
    "I have a dictionary called recipes, with the recipe name as key and the ingredients as values. I want an idiomatic way to retrieve the ingredients when they exist otherwise I want to show a message that the recipe does not exist.\n",
    "```\n",
    "\n",
    "En dit is het resultaat:"
   ]
  },
  {
   "attachments": {},
   "cell_type": "markdown",
   "metadata": {},
   "source": [
    "[^1]: <https://cabbagemees.nl/posts/2022-10-16-Flutter-app-deel-4-de-integration-test/>\n",
    "[^2]: <https://docs.flutter.dev/cookbook/testing/widget/introduction>\n",
    "[^3]: <https://api.flutter.dev/flutter/material/MaterialApp-class.html>\n",
    "[^4]: <https://api.flutter.dev/flutter/material/Scaffold-class.html>\n",
    "[^5]: <https://api.flutter.dev/flutter/material/AppBar-class.html>\n",
    "[^6]: <https://api.flutter.dev/flutter/widgets/ListView-class.html>\n",
    "[^7]: <https://api.flutter.dev/flutter/material/Card-class.html>"
   ]
  },
  {
   "cell_type": "markdown",
   "metadata": {},
   "source": [
    "```\n",
    "fn get_ingredients(recipes: &std::collections::HashMap<&str, Vec<&str>>, recipe_name: &str) -> Result<&Vec<&str>, &'static str> {\n",
    "    match recipes.get(recipe_name) {\n",
    "        Some(ingredients) => Ok(ingredients),\n",
    "        None => Err(\"Recipe not found\"),\n",
    "    }\n",
    "}\n",
    "\n",
    "fn main() {\n",
    "    // Example dictionary (HashMap) of recipes\n",
    "    let mut recipes = std::collections::HashMap::new();\n",
    "    recipes.insert(\"Pasta\", vec![\"Noodles\", \"Sauce\", \"Cheese\"]);\n",
    "    recipes.insert(\"Salad\", vec![\"Lettuce\", \"Tomato\", \"Cucumber\"]);\n",
    "\n",
    "    // Example usage\n",
    "    match get_ingredients(&recipes, \"Pasta\") {\n",
    "        Ok(ingredients) => {\n",
    "            println!(\"Ingredients for Pasta: {:?}\", ingredients);\n",
    "        }\n",
    "        Err(message) => {\n",
    "            println!(\"Error: {}\", message);\n",
    "        }\n",
    "    }\n",
    "\n",
    "    // Trying to get ingredients for a non-existent recipe\n",
    "    match get_ingredients(&recipes, \"Pizza\") {\n",
    "        Ok(ingredients) => {\n",
    "            println!(\"Ingredients for Pizza: {:?}\", ingredients);\n",
    "        }\n",
    "        Err(message) => {\n",
    "            println!(\"Error: {}\", message);\n",
    "        }\n",
    "    }\n",
    "}\n",
    "```"
   ]
  },
  {
   "cell_type": "markdown",
   "metadata": {},
   "source": [
    "Aan deze code van ChatGPT kun je zien dat je veel kunt leren. Zo zie je dat het programma in de `main` functie is geschreven. Dat i.p.v een dictionary er een `HashMap` is gebruikt  (wat dus eigenlijk een dictionary is in Rust). En je ziet bijvoorbeeld een veel gebruikte Rust eigenschap `match` (voor Pattern Matching). En als laatste zie je `Ok()` en `Err()`. Allemaal Rust termen die voor mij als beginner nog onbekend zijn, maar waar ik op deze manier kennis mee leer maken."
   ]
  },
  {
   "cell_type": "markdown",
   "metadata": {},
   "source": [
    "Sommige van deze termen zal je direct begrijpen, maar andere termen niet. Gelukkig kan ChatGPT direct antwoorden geven op de termen die je niet begrijpt.\n",
    "\n",
    "Prompt:\n",
    "```\n",
    "What does Ok() do in Rust?\n",
    "```\n",
    "\n",
    "Antwoord:"
   ]
  },
  {
   "cell_type": "markdown",
   "metadata": {},
   "source": [
    "```\n",
    "In Rust, `Ok()` is a variant of the `Result` type. The `Result` type is used for functions that may return an error. It has two variants: `Ok(T)` for a successful result with a value of type `T`, and `Err(E)` for an error with a value of type `E`.\n",
    "\n",
    "Here's a brief explanation:\n",
    "\n",
    "- `Ok(T)`: Represents the successful result of a computation, where `T` is the type of the value that the computation produces. It's a convention in Rust to use `Ok` for the \"happy path\" or successful outcome.\n",
    "    \n",
    "- `Err(E)`: Represents an error that occurred during the computation, where `E` is the type of the error. This variant is used to carry information about the error.\n",
    "    \n",
    "\n",
    "When you see `Ok(value)` in Rust, it means that the operation was successful, and `value` contains the result of that successful operation. For example:\n",
    "```\n",
    "\n",
    "```\n",
    "fn divide(a: f64, b: f64) -> Result<f64, &'static str> {\n",
    "    if b == 0.0 {\n",
    "        // Return an error if attempting to divide by zero\n",
    "        Err(\"Cannot divide by zero\")\n",
    "    } else {\n",
    "        // Return the result if the division is successful\n",
    "        Ok(a / b)\n",
    "    }\n",
    "}\n",
    "\n",
    "fn main() {\n",
    "    // Example usage\n",
    "    match divide(10.0, 2.0) {\n",
    "        Ok(result) => {\n",
    "            println!(\"Result of division: {}\", result);\n",
    "        }\n",
    "        Err(error) => {\n",
    "            println!(\"Error: {}\", error);\n",
    "        }\n",
    "    }\n",
    "}\n",
    "```\n",
    "\n",
    "```\n",
    "In this example, if the division is successful, `divide` returns `Ok(result)`, where `result` is the result of the division. If there's an error (e.g., attempting to divide by zero), it returns `Err(\"Cannot divide by zero\")`.\n",
    "\n",
    "The `match` statement in the `main` function is then used to pattern match on the result and handle the successful and error cases accordingly.\n",
    "\n",
    "So, in short, `Ok()` is a way to wrap a successful result in the `Result` type.\n",
    "```\n"
   ]
  },
  {
   "cell_type": "markdown",
   "metadata": {},
   "source": [
    "Dit maakt ChatGPT een fantastische leerpartner (bedankt ChatGPT dus ook even voor de antwoorden nadat je klaar bent).\n",
    "\n",
    "Er is ook nog een andere manier om ChatGPT te gebruiken. Namelijk om je code te verbeteren en uit te leggen waarom de code dan beter is. Ik begin dan met deze prompt om ChatGPT context mee te geven:\n",
    "\n",
    "Prompt:\n",
    "```\n",
    "Hi there you are an Elite Rust programmer and I am your apprentice. I am going to show you pieces of code that I would like you to explain, improve and explain these improvements. Can you do that for me?\n",
    "```\n",
    "\n",
    "Om vervolgens je code erin te plakken. En voila, je persoonlijke programmeer mentor.\n",
    "\n",
    "Als laatste nog een waarschuwing: wees voorzichtig met het gebruiken van ChatGPT. ChatGPT geeft namelijk altijd antwoorden terug. Maar helaas kloppen deze antwoorden niet altijd. Daarom is het goed om sceptisch naar de antwoorden te kijken en deze altijd te beoordelen. Want als er iets bijvoorbeeld te goed klinkt om waar te zijn, is dat waarschijnlijk ook zo. En hoewel dit minpunt vervelend is, is ChatGPT nog steeds een fantastisch hulpmiddel."
   ]
  },
  {
   "cell_type": "markdown",
   "metadata": {},
   "source": [
    "## Uitdagingen In Rust\n",
    "\n",
    "Als je niet bekend bent met de \"lagere\" talen (zoals ikzelf) dan is vooral het geheugen beheren lastig. Normaliter hoef je je daar ook niet druk over te maken, maar omdat je dat niet doet gebruik je veel ingebouwde programmatuur waardoor je programma ook langzamer is. Dat is anders in Rust, doordat je moet nadenken over Pointers en andere geheugenzaken. En daardoor moet je ietwat anders denken als je in Rust programmeert, wat het lastiger maakt. Maar gelukkig is er dan de Borrow Checker die je daarbij helpt. Wat Rust een goede taal maakt om je daaraan te wagen."
   ]
  },
  {
   "cell_type": "markdown",
   "metadata": {},
   "source": [
    "## Conclusie\n",
    "\n",
    "In deze post heb je hopelijk geleerd waarom Rust een interessante taal is om te leren en hoe je ChatGPT kunt gebruiken om dat te doen. Daarnaast is er (heel erg) kort uitgelegd hoe je [Serenity](https://github.com/serenity-rs/serenity) en [Shuttle](https://github.com/shuttle-hq/shuttle) kunt gebruiken om een Discord Bot te maken in Rust. In de volgende post wordt er dieper in het daadwerkelijk maken van de bot gedoken.\n",
    "\n",
    "Voor nu, bedankt voor het lezen en fijne dag!\n",
    "\n",
    "Mees"
   ]
  },
  {
   "cell_type": "markdown",
   "metadata": {},
   "source": []
  }
 ],
 "metadata": {
  "kernelspec": {
   "display_name": "venv",
   "language": "python",
   "name": "python3"
  },
  "language_info": {
   "codemirror_mode": {
    "name": "ipython",
    "version": 3
   },
   "file_extension": ".py",
   "mimetype": "text/x-python",
   "name": "python",
   "nbconvert_exporter": "python",
   "pygments_lexer": "ipython3",
   "version": "3.11.4"
  },
  "orig_nbformat": 4,
  "vscode": {
   "interpreter": {
    "hash": "5e96dc7977b545816798acbcfbbe2179ff9b80a1df2045c19cf6193f5f40622f"
   }
  }
 },
 "nbformat": 4,
 "nbformat_minor": 2
}
