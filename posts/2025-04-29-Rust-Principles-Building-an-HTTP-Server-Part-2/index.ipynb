{
 "cells": [
  {
   "cell_type": "raw",
   "metadata": {
    "vscode": {
     "languageId": "raw"
    }
   },
   "source": [
    "---\n",
    "title: \"Rust Principles Bouwen van een HTTP Server - Deel 2 - Rust's Borrow Checker\"\n",
    "subtitle: \"Waarom heeft Rust een Borrow Checker en hoe werkt die\"\n",
    "date: \"2025-04-29\"\n",
    "author: \"Mees Molenaar\"\n",
    "toc: true\n",
    "categories: [Rust, HTTP Server, Borrow Checker]\n",
    "page-layout: article\n",
    "image: images/rust_game_over.png\n",
    "---"
   ]
  },
  {
   "attachments": {},
   "cell_type": "markdown",
   "metadata": {},
   "source": [
    "Veel van de fouten die voorkomen in computerprogramma's hebben te maken met het beheren van geheugen. Tot dusver was er geen gemakkelijke tool die een groot deel daarvan kon verhelpen, maar nu wel! Een van de belangrijkste eigenschappen van Rust is de Borrow Checker. In deze post neem ik je mee in hoe de Borrow Checker werkt en hoe die zich verhoudt tot het beheren van geheugen."
   ]
  },
  {
   "attachments": {},
   "cell_type": "markdown",
   "metadata": {},
   "source": [
    "## Waarde van de Borrow Checker \n",
    "\n",
    "De Borrow Checker controleert tijdens het compileren van je programma, bijvoorbeeld dat een stukje geheugen niet meer gebruikt wordt nadat het is opgeruimd. Hierdoor voorkom je onder andere [segfaults](https://en.wikipedia.org/wiki/Segmentation_fault), omdat de Borrow Checker het compileren blokkeert en een foutmelding geeft als je iets probeert te doen wat niet veilig is. Hoewel deze meldingen van de Borrow Checker in het begin vervelend kunnen zijn om telkens tegen te komen, helpt het je op de lange termijn om betrouwbare en veilige code te schrijven zonder onverwachte geheugenfouten.\n",
    "\n",
    "Meer en meer bedrijven nemen daarom Rust op in hun codebases. En ook zeker de grote tech bedrijven zoals: [Google](https://www.youtube.com/watch?v=1VgptLwP588), [Microsoft](https://www.youtube.com/watch?v=1VgptLwP588) en [Mozilla (waar Rust ook begonnen is)](http://venge.net/graydon/talks/intro-talk-2.pdf). Wat ik dan extra interessant vind is dat er initieel wordt overgestapt naar Rust voor de extra veiligheid die de Borrow Checker geeft, maar dan ook nog blijkt dat het [zorgt voor meer productiviteitten ten opzichte van C++](https://youtu.be/QrrH2lcl9ew?t=487) en dat [men meer vertrouwen heeft in de code kwaliteit van Rust code](https://youtu.be/QrrH2lcl9ew?t=865). \n",
    "\n",
    "Voordat we verder ingaan op de werking van de Borrow Checker, wil ik jullie meenemen naar hoe geheugenbeheer (stack en heap) van verschillende types werkt in Rust. Dit maakt namelijk ook duidelijker waarom de Borrow Checker bepaalde controles uitvoert. "
   ]
  },
  {
   "attachments": {},
   "cell_type": "markdown",
   "metadata": {},
   "source": [
    "## De stack en de heap\n",
    "\n",
    "De stack en de heap zijn abstracties die worden gebruikt om te beschrijven hoe geheugen wordt beheerd binnen een computerprogramma. De stack wordt vaak vergeleken met een stapel borden: nieuwe borden leg je op de stapel. Als je een bord nodig hebt, pak je die van de stapel. Dus het laatste bord dat je op de stapel legt, pak je als eerste er af. Dit heet Last-In, First-Out (LIFO).\n",
    "\n",
    "Wanneer een functie wordt aangeroepen in je code, wordt er een nieuw stack frame op de stack geplaatst. Dat frame bevat onder andere de parameters, lokale variabelen en de plek waar het programma straks verder moet gaan zodra de functie klaar is. Elke nieuwe functieaanroep \"stapelt\" dus boven op het vorige frame, en zodra de functie klaar is, wordt het bovenste frame weer van de stack verwijderd (zoals met de stapels borden hierboven, dus LIFO). Hieronder is een schematische weergave, met bijbehorende code, van de stack."
   ]
  },
  {
   "cell_type": "markdown",
   "metadata": {},
   "source": [
    "```rust\n",
    "fn bar(a: i32) {\n",
    "    let c = a + 1;\n",
    "    println!(\"bar: c = {}\", c);\n",
    "}\n",
    "\n",
    "fn foo(x: i32) {\n",
    "    let y = x * 2;\n",
    "    bar(y);\n",
    "}\n",
    "\n",
    "fn main() {\n",
    "    let num = 10;\n",
    "    foo(num);\n",
    "}\n",
    "```\n",
    "\n",
    "```{mermaid}\n",
    "flowchart\n",
    "  subgraph Stack\n",
    "\tC[\"bar(a = 20)\n",
    "\tc = 21\"]\n",
    "\tB[\"foo(x = 10)\n",
    "\ty = 20\"]\n",
    "    A[\"main()\n",
    "    num: 10\"]\n",
    "  end\n",
    "```"
   ]
  },
  {
   "cell_type": "markdown",
   "metadata": {},
   "source": [
    "De heap is rommeliger dan de stack. Wanneer je iets op de heap wilt plaatsen, moet je eerst zoeken naar een plek met voldoende ruimte. Vervolgens plaats je de data op die plek. Om die data later weer terug te halen moet je weten waar je het hebt geplaatst, dus moet je bijhouden waar je iets geplaatst hebt en daarom heb je een soort van adres nodig. Deze twee extra stappen, zoeken naar plek en de data op die plek weer opvragen, kosten meer tijd dan het plaatsen van data op de stack. Hieronder is een schematische weergave, met bijbehorende code, van de heap."
   ]
  },
  {
   "cell_type": "markdown",
   "metadata": {},
   "source": [
    "\n",
    "```rust\n",
    "fn main() {\n",
    "    let a = 5;                  // Primitive, staat op de stack\n",
    "    let b = Box::new(10);       // Heap-allocated integer\n",
    "    let c = vec![1, 2, 3];      // Heap-allocated vector\n",
    "}\n",
    "```\n",
    "\n",
    "```{mermaid}\n",
    "graph LR\n",
    "  subgraph Stack\n",
    "    direction TB\n",
    "\tsubgraph \"main()\"\n",
    "\t  A[a: 5]\n",
    "\t  B[\"b: Box -> 📦\"]\n",
    "\t  C[\"c: Vec -> 📦📦📦\"]\n",
    "    end\n",
    "  end\n",
    "\n",
    "  subgraph Heap\n",
    "    direction TB\n",
    "    I[Data]\n",
    "    D[10]\n",
    "    K[DATA]\n",
    "    L[DATA]\n",
    "    E[1]\n",
    "    F[2]\n",
    "    G[3]\n",
    "\tJ[DATA]\n",
    "  end\n",
    "\n",
    "  B --> D\n",
    "  C --> E\n",
    "  C --> F\n",
    "  C --> G\n",
    "```"
   ]
  },
  {
   "cell_type": "markdown",
   "metadata": {},
   "source": [
    "## Rust-types op de stack en de heap\n",
    "\n",
    "Alle [primitive types](https://doc.rust-lang.org/rust-by-example/primitives.html) in Rust gaan op de stack (integers, floating points, chars, arrays en tuples), maar ook Structs gaan op de stack. Mocht je deze waarden wel op de heap willen, dan kun je de `Box<T>` gebruiken. Niet-primitieve types zoals Vectors, HashMaps en Strings worden op de heap opgeslagen. De belangrijkste reden hiervoor is dat deze types in grootte kunnen variëren: ze kunnen tijdens de uitvoering van een programma groeien of krimpen.\n",
    "\n",
    "Maar hoe weet een computerprogramma waar die typen op de heap staan? Dat wordt gedaan door ernaar toe te wijzen met een pointer. En de pointer, die leeft weer op de stack. Hieronder is een schematische weergave van een simpel voorbeeld waar een integer (i32) en een pointer (&String) op de stack staan. En de String \"Hello, world!\" op de heap staat."
   ]
  },
  {
   "cell_type": "markdown",
   "metadata": {},
   "source": [
    "```{mermaid}\n",
    "graph LR\n",
    "  subgraph Stack\n",
    "    direction TB\n",
    "    A[Primitive: i32 = 42]\n",
    "    B[Pointer: &String]\n",
    "  end\n",
    "\n",
    "  subgraph Heap\n",
    "    direction TB\n",
    "    C[\"String: &quot;Hello, world!&quot;\"]\n",
    "  end\n",
    "\n",
    "  B --> C\n",
    "```"
   ]
  },
  {
   "cell_type": "markdown",
   "metadata": {},
   "source": [
    "## Werking van de Borrow Checker\n",
    "\n",
    "Als we kijken naar Rust, is bovenstaande schematische weergave niet helemaal correct. In Rust gebruik je namelijk geen pointers, maar references."
   ]
  },
  {
   "cell_type": "markdown",
   "metadata": {},
   "source": [
    "```{mermaid}\n",
    "graph LR\n",
    "  subgraph Stack\n",
    "    direction TB\n",
    "    A[Primitive: i32 = 42]\n",
    "    B[Reference: &String]\n",
    "  end\n",
    "\n",
    "  subgraph Heap\n",
    "    direction TB\n",
    "    C[\"String: &quot;Hello, world!&quot;\"]\n",
    "  end\n",
    "\n",
    "  B --> C\n",
    "```"
   ]
  },
  {
   "cell_type": "markdown",
   "metadata": {},
   "source": [
    "Een reference is een soort \"slimme\" pointer die onder toezicht staat van de Borrow Checker. De slimmigheid is dat een referentie zich aan bepaalde regels moet houden. Deze regels zijn de magie van de Borrow Checker en dus ook van Rust, hierdoor garandeer je dat je op de juiste manier omgaat met data in het computergeheugen.\n",
    "\n",
    "De Borrow Checker doet dit door tijdens het compileren van je programma, bij te houden wie de Owner van de data is, of er Borrowers van de data zijn (dit zijn referenties) en of de Lifetime van de referenties klopt."
   ]
  },
  {
   "cell_type": "markdown",
   "metadata": {},
   "source": [
    "### Ownership, Move en References\n",
    "\n",
    "Ownership in Rust betekent dat er maar een variabele tegelijk eigenaar mag zijn van een stuk data. Wanneer je een andere variabele bindt aan die data, dan verplaatst de ownership zich, dit heet een move. Als je vervolgens de oorspronkelijke variabele probeert te gebruiken, zal de Borrow Checker tijdens het compileren een foutmelding geven. Omdat je de ownership hebt overgedragen, mag de oorspronkelijke variabele de data niet meer gebruiken.\n",
    "\n",
    "Onderstaand code voorbeeld illustreert dat proces:"
   ]
  },
  {
   "cell_type": "markdown",
   "metadata": {},
   "source": [
    "\n",
    "```rust\n",
    "fn main() {\n",
    "\tlet x = vec![1, 2, 3];\n",
    "\n",
    "\tlet y = x;\n",
    "\n",
    "\tprintln!(\"{:?}\", y);\n",
    "\tprintln!(\"{:?}\", x);\n",
    "}\n",
    "```\n",
    "\n",
    "Dat levert deze compiler error:\n",
    "\n",
    "```\n",
    "error[E0382]: borrow of moved value: `x`\n",
    " --> src/main.rs:7:22\n",
    "  |\n",
    "2 |     let x = vec![1, 2, 3];\n",
    "  |         - move occurs because `x` has type `Vec<i32>`, which does not implement the `Copy` trait\n",
    "3 |     \n",
    "4 |     let y = x;\n",
    "  |             - value moved here\n",
    "...\n",
    "7 |     println!(\"{:?}\", x);\n",
    "  |                      ^ value borrowed here after move\n",
    "  |\n",
    "  = note: this error originates in the macro `$crate::format_args_nl` which comes from the expansion of the macro `println` (in Nightly builds, run with -Z macro-backtrace for more info)\n",
    "help: consider cloning the value if the performance cost is acceptable\n",
    "  |\n",
    "4 |     let y = x.clone();\n",
    "  |              ++++++++\n",
    "\n",
    "For more information about this error, try `rustc --explain E0382`.\n",
    "```\n"
   ]
  },
  {
   "cell_type": "markdown",
   "metadata": {},
   "source": [
    "Zoals je in de compiler error ziet, geeft het heel duidelijk aan dat bij `let y = x;` de waarde movet, waardoor je `x` daarna niet meer kunt gebruiken in `println!(\"{:?}\", x);`. Het geeft zelfs aan dat je het kan clonen en zo kan oplossen.\n",
    "\n",
    "Een andere oplossing is door `y` geen eigenaar te laten worden van de waarde maar er een referentie naar te laten zijn: `let y = &x;` Met een referentie, doe je geen move maar een borrow. En dat is wel toegestaan.\n",
    "\n",
    "In dit volgende voorbeeld doet de code iets soortgelijks, maar dan met Rust-primitive types."
   ]
  },
  {
   "cell_type": "markdown",
   "metadata": {},
   "source": [
    "```rust\n",
    "fn main() {\n",
    "    let x = 1;\n",
    "    \n",
    "    let y = x;\n",
    "    \n",
    "    println!(\"{:?}\", y);\n",
    "    println!(\"{:?}\", x);\n",
    "}\n",
    "```"
   ]
  },
  {
   "cell_type": "markdown",
   "metadata": {},
   "source": [
    "[^1]: Een practice is een dagelijkse taak en de practices die nu in de app zitten komen uit het boek Choose Yourself! van James Altucher"
   ]
  },
  {
   "cell_type": "markdown",
   "metadata": {},
   "source": [
    "Het enige wat verandert is het type van `x`, maar dit werkt wel! Dat komt doordat primitive-types de Copy-trait implementeren. In plaats van dat er een Move plaatsvindt, wordt de waarde gekopieerd. \n",
    "\n",
    "> Let op: afhankelijk van de data types in een Tuple of Array wordt de Copy-trait wel geïmplementeerd maar wanneer een van de types niet de Copy-trait implementeert, dan zal bovenstaande niet werken want de waarde kan niet worden gekopieerd.\n",
    "\n",
    "Deze verschillende werkingen van primitieve- en niet-primitieve-types zitten hem erin dat de primitieve-types op de Stack leven. Het is snel en efficiënt (in termen van tijd) om een waarde op de Stack te kopiëren. Daarentegen kost het kopiëren van niet-primitieve-types meer tijd, omdat ze op de Heap worden gekopieerd. Daarom kiest Rust er standaard voor om zulke waarden te moven in plaats van te kopiëren.\n",
    "\n",
    "Als laatste, wat gebeurt er als je de data wilt veranderen? Als je meerdere referenties hebt naar data dan wil je niet dat de onderliggende data van die referenties wordt gewijzigd. Dat is nog iets wat de Borrow Checker controleert. Zie het voorbeeld hieronder:"
   ]
  },
  {
   "cell_type": "markdown",
   "metadata": {},
   "source": [
    "```rust\n",
    "fn main() {\n",
    "    let mut x = vec![1, 2, 3];\n",
    "    let y = &x;\n",
    "\n",
    "    let z = &mut x;\n",
    "    let z = z.push(4);\n",
    "    \n",
    "    println!(\"{:?}\", y);\n",
    "    println!(\"{:?}\", z);\n",
    "}\n",
    "```\n",
    "\n",
    "Hier is de compiler weer erg behulpzaam:\n",
    "\n",
    "```\n",
    "error[E0502]: cannot borrow `x` as mutable because it is also borrowed as immutable\n",
    " --> src/main.rs:5:13\n",
    "  |\n",
    "3 |     let y = &x;\n",
    "  |             -- immutable borrow occurs here\n",
    "4 |\n",
    "5 |     let z = &mut x;\n",
    "  |             ^^^^^^ mutable borrow occurs here\n",
    "...\n",
    "8 |     println!(\"{:?}\", y);\n",
    "  |                      - immutable borrow later used here\n",
    "\n",
    "For more information about this error, try `rustc --explain E0502`.\n",
    "```"
   ]
  },
  {
   "cell_type": "markdown",
   "metadata": {},
   "source": [
    "Dit is een andere regel van de Borrow Checker: je kunt of één mutable reference hebben of meerdere immutable references, maar nooit allebei tegelijk. Dit zorgt ervoor dat onderliggende data van een referentie niet onverwacht kan wijzigen.\n",
    "\n",
    "Samenvattend: de Borrow Checker controleert het Ownership van data, volgt de Moves van het Ownership en bewaakt het gebruik van mutable en immutable Referenties (Borrowing).\n",
    "\n",
    "> Kleine notitie: een ander belangrijke term in de Borrow Checker is Lifetimes. Die laat ik voor nu buiten beschouwing, ik licht ze toe zodra we ze daadwerkelijk tegenkomen\n",
    "\n",
    "Nu we de Borrow Checker beter begrijpen, gaan we in de volgende post aan de slag met het bouwen van de HTTP server.\n",
    "\n",
    "Mees"
   ]
  },
  {
   "cell_type": "markdown",
   "metadata": {},
   "source": []
  }
 ],
 "metadata": {
  "kernelspec": {
   "display_name": "venv",
   "language": "python",
   "name": "python3"
  },
  "language_info": {
   "codemirror_mode": {
    "name": "ipython",
    "version": 3
   },
   "file_extension": ".py",
   "mimetype": "text/x-python",
   "name": "python",
   "nbconvert_exporter": "python",
   "pygments_lexer": "ipython3",
   "version": "3.11.6"
  },
  "orig_nbformat": 4,
  "vscode": {
   "interpreter": {
    "hash": "5e96dc7977b545816798acbcfbbe2179ff9b80a1df2045c19cf6193f5f40622f"
   }
  }
 },
 "nbformat": 4,
 "nbformat_minor": 2
}
